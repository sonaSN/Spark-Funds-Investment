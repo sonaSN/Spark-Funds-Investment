{
 "cells": [
  {
   "cell_type": "markdown",
   "id": "54f8d090",
   "metadata": {},
   "source": [
    "# Investment assignment\n",
    "### Business objective\n",
    "The objective is to identify the best sectors, countries, and a suitable investment type for making investments. The overall strategy is to invest where others are investing, implying that the 'best' sectors and countries are the ones 'where most investors are investing’.\n",
    "### Conditions\n",
    "1)It wants to invest between 5 to 15 million USD per round of investment\n",
    "\n",
    "2) It wants to invest only in English-speaking countries because of the ease of communication with the companies it would invest in"
   ]
  },
  {
   "cell_type": "code",
   "execution_count": 1,
   "id": "b8cb1bca",
   "metadata": {},
   "outputs": [
    {
     "ename": "NameError",
     "evalue": "name 'NORM' is not defined",
     "output_type": "error",
     "traceback": [
      "\u001b[1;31m---------------------------------------------------------------------------\u001b[0m",
      "\u001b[1;31mNameError\u001b[0m                                 Traceback (most recent call last)",
      "\u001b[1;32m<ipython-input-1-d1e24505862b>\u001b[0m in \u001b[0;36m<module>\u001b[1;34m\u001b[0m\n\u001b[1;32m----> 1\u001b[1;33m \u001b[0mNORM\u001b[0m\u001b[1;33m.\u001b[0m\u001b[0mDIST\u001b[0m\u001b[1;33m(\u001b[0m\u001b[1;36m30\u001b[0m\u001b[1;33m,\u001b[0m \u001b[1;36m35\u001b[0m\u001b[1;33m,\u001b[0m \u001b[1;36m5\u001b[0m\u001b[1;33m,\u001b[0m \u001b[0mTRUE\u001b[0m\u001b[1;33m)\u001b[0m\u001b[1;33m\u001b[0m\u001b[1;33m\u001b[0m\u001b[0m\n\u001b[0m",
      "\u001b[1;31mNameError\u001b[0m: name 'NORM' is not defined"
     ]
    }
   ],
   "source": [
    "NORM.DIST(30, 35, 5, TRUE)"
   ]
  },
  {
   "cell_type": "code",
   "execution_count": 1,
   "id": "ea401f3f",
   "metadata": {},
   "outputs": [],
   "source": [
    "#Import required libraries \n",
    "import pandas as pd\n",
    "import numpy as np\n",
    "import seaborn as sns\n",
    "import chardet\n",
    "import matplotlib.pyplot as plt"
   ]
  },
  {
   "cell_type": "code",
   "execution_count": 2,
   "id": "8a7d8521",
   "metadata": {
    "scrolled": true
   },
   "outputs": [
    {
     "data": {
      "text/html": [
       "<div>\n",
       "<style scoped>\n",
       "    .dataframe tbody tr th:only-of-type {\n",
       "        vertical-align: middle;\n",
       "    }\n",
       "\n",
       "    .dataframe tbody tr th {\n",
       "        vertical-align: top;\n",
       "    }\n",
       "\n",
       "    .dataframe thead th {\n",
       "        text-align: right;\n",
       "    }\n",
       "</style>\n",
       "<table border=\"1\" class=\"dataframe\">\n",
       "  <thead>\n",
       "    <tr style=\"text-align: right;\">\n",
       "      <th></th>\n",
       "      <th>permalink</th>\n",
       "      <th>name</th>\n",
       "      <th>homepage_url</th>\n",
       "      <th>category_list</th>\n",
       "      <th>status</th>\n",
       "      <th>country_code</th>\n",
       "      <th>state_code</th>\n",
       "      <th>region</th>\n",
       "      <th>city</th>\n",
       "      <th>founded_at</th>\n",
       "    </tr>\n",
       "  </thead>\n",
       "  <tbody>\n",
       "    <tr>\n",
       "      <th>0</th>\n",
       "      <td>/Organization/-Fame</td>\n",
       "      <td>#fame</td>\n",
       "      <td>http://livfame.com</td>\n",
       "      <td>Media</td>\n",
       "      <td>operating</td>\n",
       "      <td>IND</td>\n",
       "      <td>16</td>\n",
       "      <td>Mumbai</td>\n",
       "      <td>Mumbai</td>\n",
       "      <td>NaN</td>\n",
       "    </tr>\n",
       "    <tr>\n",
       "      <th>1</th>\n",
       "      <td>/Organization/-Qounter</td>\n",
       "      <td>:Qounter</td>\n",
       "      <td>http://www.qounter.com</td>\n",
       "      <td>Application Platforms|Real Time|Social Network...</td>\n",
       "      <td>operating</td>\n",
       "      <td>USA</td>\n",
       "      <td>DE</td>\n",
       "      <td>DE - Other</td>\n",
       "      <td>Delaware City</td>\n",
       "      <td>4/9/2014</td>\n",
       "    </tr>\n",
       "    <tr>\n",
       "      <th>2</th>\n",
       "      <td>/Organization/-The-One-Of-Them-Inc-</td>\n",
       "      <td>(THE) ONE of THEM,Inc.</td>\n",
       "      <td>http://oneofthem.jp</td>\n",
       "      <td>Apps|Games|Mobile</td>\n",
       "      <td>operating</td>\n",
       "      <td>NaN</td>\n",
       "      <td>NaN</td>\n",
       "      <td>NaN</td>\n",
       "      <td>NaN</td>\n",
       "      <td>NaN</td>\n",
       "    </tr>\n",
       "    <tr>\n",
       "      <th>3</th>\n",
       "      <td>/Organization/0-6-Com</td>\n",
       "      <td>0-6.com</td>\n",
       "      <td>http://www.0-6.com</td>\n",
       "      <td>Curated Web</td>\n",
       "      <td>operating</td>\n",
       "      <td>CHN</td>\n",
       "      <td>22</td>\n",
       "      <td>Beijing</td>\n",
       "      <td>Beijing</td>\n",
       "      <td>1/1/2007</td>\n",
       "    </tr>\n",
       "    <tr>\n",
       "      <th>4</th>\n",
       "      <td>/Organization/004-Technologies</td>\n",
       "      <td>004 Technologies</td>\n",
       "      <td>http://004gmbh.de/en/004-interact</td>\n",
       "      <td>Software</td>\n",
       "      <td>operating</td>\n",
       "      <td>USA</td>\n",
       "      <td>IL</td>\n",
       "      <td>Springfield, Illinois</td>\n",
       "      <td>Champaign</td>\n",
       "      <td>1/1/2010</td>\n",
       "    </tr>\n",
       "  </tbody>\n",
       "</table>\n",
       "</div>"
      ],
      "text/plain": [
       "                             permalink                    name  \\\n",
       "0                  /Organization/-Fame                   #fame   \n",
       "1               /Organization/-Qounter                :Qounter   \n",
       "2  /Organization/-The-One-Of-Them-Inc-  (THE) ONE of THEM,Inc.   \n",
       "3                /Organization/0-6-Com                 0-6.com   \n",
       "4       /Organization/004-Technologies        004 Technologies   \n",
       "\n",
       "                        homepage_url  \\\n",
       "0                 http://livfame.com   \n",
       "1             http://www.qounter.com   \n",
       "2                http://oneofthem.jp   \n",
       "3                 http://www.0-6.com   \n",
       "4  http://004gmbh.de/en/004-interact   \n",
       "\n",
       "                                       category_list     status country_code  \\\n",
       "0                                              Media  operating          IND   \n",
       "1  Application Platforms|Real Time|Social Network...  operating          USA   \n",
       "2                                  Apps|Games|Mobile  operating          NaN   \n",
       "3                                        Curated Web  operating          CHN   \n",
       "4                                           Software  operating          USA   \n",
       "\n",
       "  state_code                 region           city founded_at  \n",
       "0         16                 Mumbai         Mumbai        NaN  \n",
       "1         DE             DE - Other  Delaware City   4/9/2014  \n",
       "2        NaN                    NaN            NaN        NaN  \n",
       "3         22                Beijing        Beijing   1/1/2007  \n",
       "4         IL  Springfield, Illinois      Champaign   1/1/2010  "
      ]
     },
     "execution_count": 2,
     "metadata": {},
     "output_type": "execute_result"
    }
   ],
   "source": [
    "#read the companies dataset and check first five rows\n",
    "companies=pd.read_csv(\"companies.csv\",encoding='ISO-8859-1')\n",
    "companies.head(5)"
   ]
  },
  {
   "cell_type": "code",
   "execution_count": 3,
   "id": "bc9e181f",
   "metadata": {},
   "outputs": [
    {
     "data": {
      "text/html": [
       "<div>\n",
       "<style scoped>\n",
       "    .dataframe tbody tr th:only-of-type {\n",
       "        vertical-align: middle;\n",
       "    }\n",
       "\n",
       "    .dataframe tbody tr th {\n",
       "        vertical-align: top;\n",
       "    }\n",
       "\n",
       "    .dataframe thead th {\n",
       "        text-align: right;\n",
       "    }\n",
       "</style>\n",
       "<table border=\"1\" class=\"dataframe\">\n",
       "  <thead>\n",
       "    <tr style=\"text-align: right;\">\n",
       "      <th></th>\n",
       "      <th>company_permalink</th>\n",
       "      <th>funding_round_permalink</th>\n",
       "      <th>funding_round_type</th>\n",
       "      <th>funding_round_code</th>\n",
       "      <th>funded_at</th>\n",
       "      <th>raised_amount_usd</th>\n",
       "    </tr>\n",
       "  </thead>\n",
       "  <tbody>\n",
       "    <tr>\n",
       "      <th>0</th>\n",
       "      <td>/organization/-fame</td>\n",
       "      <td>/funding-round/9a01d05418af9f794eebff7ace91f638</td>\n",
       "      <td>venture</td>\n",
       "      <td>B</td>\n",
       "      <td>5/1/2015</td>\n",
       "      <td>10000000.0</td>\n",
       "    </tr>\n",
       "    <tr>\n",
       "      <th>1</th>\n",
       "      <td>/ORGANIZATION/-QOUNTER</td>\n",
       "      <td>/funding-round/22dacff496eb7acb2b901dec1dfe5633</td>\n",
       "      <td>venture</td>\n",
       "      <td>A</td>\n",
       "      <td>14-10-2014</td>\n",
       "      <td>NaN</td>\n",
       "    </tr>\n",
       "    <tr>\n",
       "      <th>2</th>\n",
       "      <td>/organization/-qounter</td>\n",
       "      <td>/funding-round/b44fbb94153f6cdef13083530bb48030</td>\n",
       "      <td>seed</td>\n",
       "      <td>NaN</td>\n",
       "      <td>1/3/2014</td>\n",
       "      <td>700000.0</td>\n",
       "    </tr>\n",
       "    <tr>\n",
       "      <th>3</th>\n",
       "      <td>/ORGANIZATION/-THE-ONE-OF-THEM-INC-</td>\n",
       "      <td>/funding-round/650b8f704416801069bb178a1418776b</td>\n",
       "      <td>venture</td>\n",
       "      <td>B</td>\n",
       "      <td>30-01-2014</td>\n",
       "      <td>3406878.0</td>\n",
       "    </tr>\n",
       "    <tr>\n",
       "      <th>4</th>\n",
       "      <td>/organization/0-6-com</td>\n",
       "      <td>/funding-round/5727accaeaa57461bd22a9bdd945382d</td>\n",
       "      <td>venture</td>\n",
       "      <td>A</td>\n",
       "      <td>19-03-2008</td>\n",
       "      <td>2000000.0</td>\n",
       "    </tr>\n",
       "  </tbody>\n",
       "</table>\n",
       "</div>"
      ],
      "text/plain": [
       "                     company_permalink  \\\n",
       "0                  /organization/-fame   \n",
       "1               /ORGANIZATION/-QOUNTER   \n",
       "2               /organization/-qounter   \n",
       "3  /ORGANIZATION/-THE-ONE-OF-THEM-INC-   \n",
       "4                /organization/0-6-com   \n",
       "\n",
       "                           funding_round_permalink funding_round_type  \\\n",
       "0  /funding-round/9a01d05418af9f794eebff7ace91f638            venture   \n",
       "1  /funding-round/22dacff496eb7acb2b901dec1dfe5633            venture   \n",
       "2  /funding-round/b44fbb94153f6cdef13083530bb48030               seed   \n",
       "3  /funding-round/650b8f704416801069bb178a1418776b            venture   \n",
       "4  /funding-round/5727accaeaa57461bd22a9bdd945382d            venture   \n",
       "\n",
       "  funding_round_code   funded_at  raised_amount_usd  \n",
       "0                  B    5/1/2015         10000000.0  \n",
       "1                  A  14-10-2014                NaN  \n",
       "2                NaN    1/3/2014           700000.0  \n",
       "3                  B  30-01-2014          3406878.0  \n",
       "4                  A  19-03-2008          2000000.0  "
      ]
     },
     "execution_count": 3,
     "metadata": {},
     "output_type": "execute_result"
    }
   ],
   "source": [
    "#read round2 dataset and check first 5 rows of it\n",
    "rounds2=pd.read_csv(\"rounds2.csv\",encoding='ISO-8859-1')\n",
    "rounds2.head(5)"
   ]
  },
  {
   "cell_type": "markdown",
   "id": "f15a3dff",
   "metadata": {},
   "source": [
    "## Data understanding (Data exploration) "
   ]
  },
  {
   "cell_type": "code",
   "execution_count": 4,
   "id": "dce9fcea",
   "metadata": {},
   "outputs": [
    {
     "data": {
      "text/html": [
       "<div>\n",
       "<style scoped>\n",
       "    .dataframe tbody tr th:only-of-type {\n",
       "        vertical-align: middle;\n",
       "    }\n",
       "\n",
       "    .dataframe tbody tr th {\n",
       "        vertical-align: top;\n",
       "    }\n",
       "\n",
       "    .dataframe thead th {\n",
       "        text-align: right;\n",
       "    }\n",
       "</style>\n",
       "<table border=\"1\" class=\"dataframe\">\n",
       "  <thead>\n",
       "    <tr style=\"text-align: right;\">\n",
       "      <th></th>\n",
       "      <th>permalink</th>\n",
       "      <th>name</th>\n",
       "      <th>homepage_url</th>\n",
       "      <th>category_list</th>\n",
       "      <th>status</th>\n",
       "      <th>country_code</th>\n",
       "      <th>state_code</th>\n",
       "      <th>region</th>\n",
       "      <th>city</th>\n",
       "      <th>founded_at</th>\n",
       "    </tr>\n",
       "  </thead>\n",
       "  <tbody>\n",
       "    <tr>\n",
       "      <th>11450</th>\n",
       "      <td>/Organization/Classical-Diary</td>\n",
       "      <td>Classical Diary</td>\n",
       "      <td>http://www.classicaldiary.com/</td>\n",
       "      <td>Music</td>\n",
       "      <td>operating</td>\n",
       "      <td>GBR</td>\n",
       "      <td>H9</td>\n",
       "      <td>London</td>\n",
       "      <td>London</td>\n",
       "      <td>8/7/2013</td>\n",
       "    </tr>\n",
       "    <tr>\n",
       "      <th>60616</th>\n",
       "      <td>/Organization/Unoceros</td>\n",
       "      <td>Unoceros</td>\n",
       "      <td>http://unoceros.com</td>\n",
       "      <td>Application Platforms|Mobile Commerce|Software</td>\n",
       "      <td>operating</td>\n",
       "      <td>USA</td>\n",
       "      <td>WA</td>\n",
       "      <td>Seattle</td>\n",
       "      <td>Kirkland</td>\n",
       "      <td>NaN</td>\n",
       "    </tr>\n",
       "    <tr>\n",
       "      <th>41697</th>\n",
       "      <td>/Organization/Outboundengine</td>\n",
       "      <td>OutboundEngine</td>\n",
       "      <td>http://www.outboundengine.com</td>\n",
       "      <td>Advertising|Email Marketing|Marketing Automati...</td>\n",
       "      <td>operating</td>\n",
       "      <td>USA</td>\n",
       "      <td>TX</td>\n",
       "      <td>Austin</td>\n",
       "      <td>Austin</td>\n",
       "      <td>1/9/2012</td>\n",
       "    </tr>\n",
       "    <tr>\n",
       "      <th>56152</th>\n",
       "      <td>/Organization/Tagwallet</td>\n",
       "      <td>tagWALLET</td>\n",
       "      <td>http://www.tagwallet.mobi</td>\n",
       "      <td>Consulting</td>\n",
       "      <td>operating</td>\n",
       "      <td>NaN</td>\n",
       "      <td>NaN</td>\n",
       "      <td>NaN</td>\n",
       "      <td>NaN</td>\n",
       "      <td>1/1/2014</td>\n",
       "    </tr>\n",
       "    <tr>\n",
       "      <th>29135</th>\n",
       "      <td>/Organization/Itarget-Com</td>\n",
       "      <td>itarget.com</td>\n",
       "      <td>http://www.itarget.com/</td>\n",
       "      <td>NaN</td>\n",
       "      <td>closed</td>\n",
       "      <td>NaN</td>\n",
       "      <td>NaN</td>\n",
       "      <td>NaN</td>\n",
       "      <td>NaN</td>\n",
       "      <td>NaN</td>\n",
       "    </tr>\n",
       "    <tr>\n",
       "      <th>37256</th>\n",
       "      <td>/Organization/Moxsie</td>\n",
       "      <td>Moxsie</td>\n",
       "      <td>http://www.moxsie.com</td>\n",
       "      <td>E-Commerce|Fashion|Shopping</td>\n",
       "      <td>closed</td>\n",
       "      <td>USA</td>\n",
       "      <td>CA</td>\n",
       "      <td>SF Bay Area</td>\n",
       "      <td>Palo Alto</td>\n",
       "      <td>NaN</td>\n",
       "    </tr>\n",
       "    <tr>\n",
       "      <th>4226</th>\n",
       "      <td>/Organization/Aria-Systems</td>\n",
       "      <td>Aria Systems</td>\n",
       "      <td>http://www.ariasystems.com</td>\n",
       "      <td>Billing|Cloud Computing|Enterprise Software|Mo...</td>\n",
       "      <td>operating</td>\n",
       "      <td>USA</td>\n",
       "      <td>CA</td>\n",
       "      <td>SF Bay Area</td>\n",
       "      <td>San Francisco</td>\n",
       "      <td>1/1/2003</td>\n",
       "    </tr>\n",
       "    <tr>\n",
       "      <th>42983</th>\n",
       "      <td>/Organization/Perfect-Memory</td>\n",
       "      <td>Perfect Memory</td>\n",
       "      <td>http://perfect-memory.com</td>\n",
       "      <td>Education</td>\n",
       "      <td>operating</td>\n",
       "      <td>FRA</td>\n",
       "      <td>98</td>\n",
       "      <td>FRA - Other</td>\n",
       "      <td>ChamaliÃ¨res-sur-loire</td>\n",
       "      <td>1/1/2008</td>\n",
       "    </tr>\n",
       "    <tr>\n",
       "      <th>14978</th>\n",
       "      <td>/Organization/Dealhamster</td>\n",
       "      <td>DealHamster</td>\n",
       "      <td>http://www.dealhamster.com</td>\n",
       "      <td>E-Commerce</td>\n",
       "      <td>operating</td>\n",
       "      <td>NaN</td>\n",
       "      <td>NaN</td>\n",
       "      <td>NaN</td>\n",
       "      <td>NaN</td>\n",
       "      <td>4/3/2009</td>\n",
       "    </tr>\n",
       "    <tr>\n",
       "      <th>56442</th>\n",
       "      <td>/Organization/Tapsense</td>\n",
       "      <td>TapSense</td>\n",
       "      <td>http://tapsense.com</td>\n",
       "      <td>Advertising|Android|iOS|iPad|Mobile</td>\n",
       "      <td>operating</td>\n",
       "      <td>USA</td>\n",
       "      <td>CA</td>\n",
       "      <td>SF Bay Area</td>\n",
       "      <td>San Francisco</td>\n",
       "      <td>10/5/2011</td>\n",
       "    </tr>\n",
       "  </tbody>\n",
       "</table>\n",
       "</div>"
      ],
      "text/plain": [
       "                           permalink             name  \\\n",
       "11450  /Organization/Classical-Diary  Classical Diary   \n",
       "60616         /Organization/Unoceros         Unoceros   \n",
       "41697   /Organization/Outboundengine   OutboundEngine   \n",
       "56152        /Organization/Tagwallet        tagWALLET   \n",
       "29135      /Organization/Itarget-Com      itarget.com   \n",
       "37256           /Organization/Moxsie           Moxsie   \n",
       "4226      /Organization/Aria-Systems     Aria Systems   \n",
       "42983   /Organization/Perfect-Memory   Perfect Memory   \n",
       "14978      /Organization/Dealhamster      DealHamster   \n",
       "56442         /Organization/Tapsense         TapSense   \n",
       "\n",
       "                         homepage_url  \\\n",
       "11450  http://www.classicaldiary.com/   \n",
       "60616             http://unoceros.com   \n",
       "41697   http://www.outboundengine.com   \n",
       "56152       http://www.tagwallet.mobi   \n",
       "29135         http://www.itarget.com/   \n",
       "37256           http://www.moxsie.com   \n",
       "4226       http://www.ariasystems.com   \n",
       "42983       http://perfect-memory.com   \n",
       "14978      http://www.dealhamster.com   \n",
       "56442             http://tapsense.com   \n",
       "\n",
       "                                           category_list     status  \\\n",
       "11450                                              Music  operating   \n",
       "60616     Application Platforms|Mobile Commerce|Software  operating   \n",
       "41697  Advertising|Email Marketing|Marketing Automati...  operating   \n",
       "56152                                         Consulting  operating   \n",
       "29135                                                NaN     closed   \n",
       "37256                        E-Commerce|Fashion|Shopping     closed   \n",
       "4226   Billing|Cloud Computing|Enterprise Software|Mo...  operating   \n",
       "42983                                          Education  operating   \n",
       "14978                                         E-Commerce  operating   \n",
       "56442                Advertising|Android|iOS|iPad|Mobile  operating   \n",
       "\n",
       "      country_code state_code       region                    city founded_at  \n",
       "11450          GBR         H9       London                  London   8/7/2013  \n",
       "60616          USA         WA      Seattle                Kirkland        NaN  \n",
       "41697          USA         TX       Austin                  Austin   1/9/2012  \n",
       "56152          NaN        NaN          NaN                     NaN   1/1/2014  \n",
       "29135          NaN        NaN          NaN                     NaN        NaN  \n",
       "37256          USA         CA  SF Bay Area               Palo Alto        NaN  \n",
       "4226           USA         CA  SF Bay Area           San Francisco   1/1/2003  \n",
       "42983          FRA         98  FRA - Other  ChamaliÃ¨res-sur-loire   1/1/2008  \n",
       "14978          NaN        NaN          NaN                     NaN   4/3/2009  \n",
       "56442          USA         CA  SF Bay Area           San Francisco  10/5/2011  "
      ]
     },
     "execution_count": 4,
     "metadata": {},
     "output_type": "execute_result"
    }
   ],
   "source": [
    "companies.sample(10)"
   ]
  },
  {
   "cell_type": "code",
   "execution_count": 5,
   "id": "d42d0031",
   "metadata": {},
   "outputs": [
    {
     "data": {
      "text/plain": [
       "(66368, 10)"
      ]
     },
     "execution_count": 5,
     "metadata": {},
     "output_type": "execute_result"
    }
   ],
   "source": [
    "#shape of companies dataset\n",
    "companies.shape"
   ]
  },
  {
   "cell_type": "code",
   "execution_count": 6,
   "id": "175c6121",
   "metadata": {},
   "outputs": [
    {
     "data": {
      "text/html": [
       "<div>\n",
       "<style scoped>\n",
       "    .dataframe tbody tr th:only-of-type {\n",
       "        vertical-align: middle;\n",
       "    }\n",
       "\n",
       "    .dataframe tbody tr th {\n",
       "        vertical-align: top;\n",
       "    }\n",
       "\n",
       "    .dataframe thead th {\n",
       "        text-align: right;\n",
       "    }\n",
       "</style>\n",
       "<table border=\"1\" class=\"dataframe\">\n",
       "  <thead>\n",
       "    <tr style=\"text-align: right;\">\n",
       "      <th></th>\n",
       "      <th>company_permalink</th>\n",
       "      <th>funding_round_permalink</th>\n",
       "      <th>funding_round_type</th>\n",
       "      <th>funding_round_code</th>\n",
       "      <th>funded_at</th>\n",
       "      <th>raised_amount_usd</th>\n",
       "    </tr>\n",
       "  </thead>\n",
       "  <tbody>\n",
       "    <tr>\n",
       "      <th>45197</th>\n",
       "      <td>/ORGANIZATION/HUMAGADE</td>\n",
       "      <td>/funding-round/70c10c0450bed80f8ff5c01bf4fe4f51</td>\n",
       "      <td>venture</td>\n",
       "      <td>NaN</td>\n",
       "      <td>10/10/2006</td>\n",
       "      <td>10600000.0</td>\n",
       "    </tr>\n",
       "    <tr>\n",
       "      <th>46356</th>\n",
       "      <td>/organization/iifl</td>\n",
       "      <td>/funding-round/12a5d91b65d9e8bf3de99f2a149182f0</td>\n",
       "      <td>undisclosed</td>\n",
       "      <td>NaN</td>\n",
       "      <td>24-10-2015</td>\n",
       "      <td>173000000.0</td>\n",
       "    </tr>\n",
       "    <tr>\n",
       "      <th>55830</th>\n",
       "      <td>/organization/lighthouse-bcs</td>\n",
       "      <td>/funding-round/312d97fa90be61d3bc5917f08c5e4c16</td>\n",
       "      <td>undisclosed</td>\n",
       "      <td>NaN</td>\n",
       "      <td>23-06-2011</td>\n",
       "      <td>NaN</td>\n",
       "    </tr>\n",
       "    <tr>\n",
       "      <th>105465</th>\n",
       "      <td>/ORGANIZATION/UVORE</td>\n",
       "      <td>/funding-round/b63a6008c9be29b29e588ff37045fef0</td>\n",
       "      <td>seed</td>\n",
       "      <td>NaN</td>\n",
       "      <td>1/8/2014</td>\n",
       "      <td>NaN</td>\n",
       "    </tr>\n",
       "    <tr>\n",
       "      <th>12768</th>\n",
       "      <td>/organization/bitpass</td>\n",
       "      <td>/funding-round/60ea958648f59dc6ef72a99d87b03aec</td>\n",
       "      <td>venture</td>\n",
       "      <td>A</td>\n",
       "      <td>1/7/2003</td>\n",
       "      <td>1500000.0</td>\n",
       "    </tr>\n",
       "    <tr>\n",
       "      <th>40786</th>\n",
       "      <td>/organization/gohealth</td>\n",
       "      <td>/funding-round/e23d87b9567027173af62d3679a9d677</td>\n",
       "      <td>venture</td>\n",
       "      <td>NaN</td>\n",
       "      <td>6/10/2015</td>\n",
       "      <td>25375733.0</td>\n",
       "    </tr>\n",
       "    <tr>\n",
       "      <th>104589</th>\n",
       "      <td>/ORGANIZATION/UNI-CONTROL</td>\n",
       "      <td>/funding-round/479dba0e9ae561c37ecd1b0617200724</td>\n",
       "      <td>equity_crowdfunding</td>\n",
       "      <td>NaN</td>\n",
       "      <td>12/9/2014</td>\n",
       "      <td>NaN</td>\n",
       "    </tr>\n",
       "    <tr>\n",
       "      <th>55548</th>\n",
       "      <td>/organization/libboo</td>\n",
       "      <td>/funding-round/7f671731c088fdb2588bb670c9b969b4</td>\n",
       "      <td>seed</td>\n",
       "      <td>NaN</td>\n",
       "      <td>3/10/2012</td>\n",
       "      <td>1100000.0</td>\n",
       "    </tr>\n",
       "    <tr>\n",
       "      <th>79143</th>\n",
       "      <td>/ORGANIZATION/PROVEN-COM</td>\n",
       "      <td>/funding-round/b5e58b5951dc366cb7f7892e53a0f0bd</td>\n",
       "      <td>venture</td>\n",
       "      <td>NaN</td>\n",
       "      <td>10/7/2015</td>\n",
       "      <td>241453.0</td>\n",
       "    </tr>\n",
       "    <tr>\n",
       "      <th>60164</th>\n",
       "      <td>/organization/mediant-communications</td>\n",
       "      <td>/funding-round/09e78d621627e32263f79dd32752ccd3</td>\n",
       "      <td>venture</td>\n",
       "      <td>NaN</td>\n",
       "      <td>7/1/2014</td>\n",
       "      <td>7000000.0</td>\n",
       "    </tr>\n",
       "  </tbody>\n",
       "</table>\n",
       "</div>"
      ],
      "text/plain": [
       "                           company_permalink  \\\n",
       "45197                 /ORGANIZATION/HUMAGADE   \n",
       "46356                     /organization/iifl   \n",
       "55830           /organization/lighthouse-bcs   \n",
       "105465                   /ORGANIZATION/UVORE   \n",
       "12768                  /organization/bitpass   \n",
       "40786                 /organization/gohealth   \n",
       "104589             /ORGANIZATION/UNI-CONTROL   \n",
       "55548                   /organization/libboo   \n",
       "79143               /ORGANIZATION/PROVEN-COM   \n",
       "60164   /organization/mediant-communications   \n",
       "\n",
       "                                funding_round_permalink   funding_round_type  \\\n",
       "45197   /funding-round/70c10c0450bed80f8ff5c01bf4fe4f51              venture   \n",
       "46356   /funding-round/12a5d91b65d9e8bf3de99f2a149182f0          undisclosed   \n",
       "55830   /funding-round/312d97fa90be61d3bc5917f08c5e4c16          undisclosed   \n",
       "105465  /funding-round/b63a6008c9be29b29e588ff37045fef0                 seed   \n",
       "12768   /funding-round/60ea958648f59dc6ef72a99d87b03aec              venture   \n",
       "40786   /funding-round/e23d87b9567027173af62d3679a9d677              venture   \n",
       "104589  /funding-round/479dba0e9ae561c37ecd1b0617200724  equity_crowdfunding   \n",
       "55548   /funding-round/7f671731c088fdb2588bb670c9b969b4                 seed   \n",
       "79143   /funding-round/b5e58b5951dc366cb7f7892e53a0f0bd              venture   \n",
       "60164   /funding-round/09e78d621627e32263f79dd32752ccd3              venture   \n",
       "\n",
       "       funding_round_code   funded_at  raised_amount_usd  \n",
       "45197                 NaN  10/10/2006         10600000.0  \n",
       "46356                 NaN  24-10-2015        173000000.0  \n",
       "55830                 NaN  23-06-2011                NaN  \n",
       "105465                NaN    1/8/2014                NaN  \n",
       "12768                   A    1/7/2003          1500000.0  \n",
       "40786                 NaN   6/10/2015         25375733.0  \n",
       "104589                NaN   12/9/2014                NaN  \n",
       "55548                 NaN   3/10/2012          1100000.0  \n",
       "79143                 NaN   10/7/2015           241453.0  \n",
       "60164                 NaN    7/1/2014          7000000.0  "
      ]
     },
     "execution_count": 6,
     "metadata": {},
     "output_type": "execute_result"
    }
   ],
   "source": [
    "rounds2.sample(10)"
   ]
  },
  {
   "cell_type": "code",
   "execution_count": 7,
   "id": "ec91ece8",
   "metadata": {},
   "outputs": [
    {
     "data": {
      "text/plain": [
       "(114949, 6)"
      ]
     },
     "execution_count": 7,
     "metadata": {},
     "output_type": "execute_result"
    }
   ],
   "source": [
    "#shape of rounds2 dataset\n",
    "rounds2.shape"
   ]
  },
  {
   "cell_type": "markdown",
   "id": "4d8cb0ff",
   "metadata": {},
   "source": [
    "## Data Inspection "
   ]
  },
  {
   "cell_type": "code",
   "execution_count": 8,
   "id": "73c0428f",
   "metadata": {},
   "outputs": [
    {
     "name": "stdout",
     "output_type": "stream",
     "text": [
      "<class 'pandas.core.frame.DataFrame'>\n",
      "RangeIndex: 66368 entries, 0 to 66367\n",
      "Data columns (total 10 columns):\n",
      " #   Column         Non-Null Count  Dtype \n",
      "---  ------         --------------  ----- \n",
      " 0   permalink      66368 non-null  object\n",
      " 1   name           66367 non-null  object\n",
      " 2   homepage_url   61310 non-null  object\n",
      " 3   category_list  63220 non-null  object\n",
      " 4   status         66368 non-null  object\n",
      " 5   country_code   59410 non-null  object\n",
      " 6   state_code     57821 non-null  object\n",
      " 7   region         58338 non-null  object\n",
      " 8   city           58340 non-null  object\n",
      " 9   founded_at     51147 non-null  object\n",
      "dtypes: object(10)\n",
      "memory usage: 5.1+ MB\n"
     ]
    }
   ],
   "source": [
    "#fetch information of companies dataset\n",
    "companies.info()"
   ]
  },
  {
   "cell_type": "code",
   "execution_count": 9,
   "id": "fce9abaa",
   "metadata": {},
   "outputs": [
    {
     "data": {
      "text/html": [
       "<div>\n",
       "<style scoped>\n",
       "    .dataframe tbody tr th:only-of-type {\n",
       "        vertical-align: middle;\n",
       "    }\n",
       "\n",
       "    .dataframe tbody tr th {\n",
       "        vertical-align: top;\n",
       "    }\n",
       "\n",
       "    .dataframe thead th {\n",
       "        text-align: right;\n",
       "    }\n",
       "</style>\n",
       "<table border=\"1\" class=\"dataframe\">\n",
       "  <thead>\n",
       "    <tr style=\"text-align: right;\">\n",
       "      <th></th>\n",
       "      <th>permalink</th>\n",
       "      <th>name</th>\n",
       "      <th>homepage_url</th>\n",
       "      <th>category_list</th>\n",
       "      <th>status</th>\n",
       "      <th>country_code</th>\n",
       "      <th>state_code</th>\n",
       "      <th>region</th>\n",
       "      <th>city</th>\n",
       "      <th>founded_at</th>\n",
       "    </tr>\n",
       "  </thead>\n",
       "  <tbody>\n",
       "    <tr>\n",
       "      <th>count</th>\n",
       "      <td>66368</td>\n",
       "      <td>66367</td>\n",
       "      <td>61310</td>\n",
       "      <td>63220</td>\n",
       "      <td>66368</td>\n",
       "      <td>59410</td>\n",
       "      <td>57821</td>\n",
       "      <td>58338</td>\n",
       "      <td>58340</td>\n",
       "      <td>51147</td>\n",
       "    </tr>\n",
       "    <tr>\n",
       "      <th>unique</th>\n",
       "      <td>66368</td>\n",
       "      <td>66099</td>\n",
       "      <td>61191</td>\n",
       "      <td>27296</td>\n",
       "      <td>4</td>\n",
       "      <td>137</td>\n",
       "      <td>311</td>\n",
       "      <td>1092</td>\n",
       "      <td>5111</td>\n",
       "      <td>3978</td>\n",
       "    </tr>\n",
       "    <tr>\n",
       "      <th>top</th>\n",
       "      <td>/Organization/Muecs</td>\n",
       "      <td>#NAME?</td>\n",
       "      <td>http://www.askforoffer.com</td>\n",
       "      <td>Software</td>\n",
       "      <td>operating</td>\n",
       "      <td>USA</td>\n",
       "      <td>CA</td>\n",
       "      <td>SF Bay Area</td>\n",
       "      <td>San Francisco</td>\n",
       "      <td>1/1/2012</td>\n",
       "    </tr>\n",
       "    <tr>\n",
       "      <th>freq</th>\n",
       "      <td>1</td>\n",
       "      <td>4</td>\n",
       "      <td>5</td>\n",
       "      <td>3995</td>\n",
       "      <td>53034</td>\n",
       "      <td>37601</td>\n",
       "      <td>12900</td>\n",
       "      <td>8804</td>\n",
       "      <td>3526</td>\n",
       "      <td>2730</td>\n",
       "    </tr>\n",
       "  </tbody>\n",
       "</table>\n",
       "</div>"
      ],
      "text/plain": [
       "                  permalink    name                homepage_url category_list  \\\n",
       "count                 66368   66367                       61310         63220   \n",
       "unique                66368   66099                       61191         27296   \n",
       "top     /Organization/Muecs  #NAME?  http://www.askforoffer.com      Software   \n",
       "freq                      1       4                           5          3995   \n",
       "\n",
       "           status country_code state_code       region           city  \\\n",
       "count       66368        59410      57821        58338          58340   \n",
       "unique          4          137        311         1092           5111   \n",
       "top     operating          USA         CA  SF Bay Area  San Francisco   \n",
       "freq        53034        37601      12900         8804           3526   \n",
       "\n",
       "       founded_at  \n",
       "count       51147  \n",
       "unique       3978  \n",
       "top      1/1/2012  \n",
       "freq         2730  "
      ]
     },
     "execution_count": 9,
     "metadata": {},
     "output_type": "execute_result"
    }
   ],
   "source": [
    "#describing companies dataset\n",
    "companies.describe()"
   ]
  },
  {
   "cell_type": "code",
   "execution_count": 10,
   "id": "3514a190",
   "metadata": {},
   "outputs": [
    {
     "name": "stdout",
     "output_type": "stream",
     "text": [
      "<class 'pandas.core.frame.DataFrame'>\n",
      "RangeIndex: 114949 entries, 0 to 114948\n",
      "Data columns (total 6 columns):\n",
      " #   Column                   Non-Null Count   Dtype  \n",
      "---  ------                   --------------   -----  \n",
      " 0   company_permalink        114949 non-null  object \n",
      " 1   funding_round_permalink  114949 non-null  object \n",
      " 2   funding_round_type       114949 non-null  object \n",
      " 3   funding_round_code       31140 non-null   object \n",
      " 4   funded_at                114949 non-null  object \n",
      " 5   raised_amount_usd        94959 non-null   float64\n",
      "dtypes: float64(1), object(5)\n",
      "memory usage: 5.3+ MB\n"
     ]
    }
   ],
   "source": [
    "#fetch information of rounds2 dataset\n",
    "rounds2.info()"
   ]
  },
  {
   "cell_type": "code",
   "execution_count": 11,
   "id": "428d5247",
   "metadata": {},
   "outputs": [
    {
     "data": {
      "text/html": [
       "<div>\n",
       "<style scoped>\n",
       "    .dataframe tbody tr th:only-of-type {\n",
       "        vertical-align: middle;\n",
       "    }\n",
       "\n",
       "    .dataframe tbody tr th {\n",
       "        vertical-align: top;\n",
       "    }\n",
       "\n",
       "    .dataframe thead th {\n",
       "        text-align: right;\n",
       "    }\n",
       "</style>\n",
       "<table border=\"1\" class=\"dataframe\">\n",
       "  <thead>\n",
       "    <tr style=\"text-align: right;\">\n",
       "      <th></th>\n",
       "      <th>raised_amount_usd</th>\n",
       "    </tr>\n",
       "  </thead>\n",
       "  <tbody>\n",
       "    <tr>\n",
       "      <th>count</th>\n",
       "      <td>9.495900e+04</td>\n",
       "    </tr>\n",
       "    <tr>\n",
       "      <th>mean</th>\n",
       "      <td>1.042687e+07</td>\n",
       "    </tr>\n",
       "    <tr>\n",
       "      <th>std</th>\n",
       "      <td>1.148212e+08</td>\n",
       "    </tr>\n",
       "    <tr>\n",
       "      <th>min</th>\n",
       "      <td>0.000000e+00</td>\n",
       "    </tr>\n",
       "    <tr>\n",
       "      <th>25%</th>\n",
       "      <td>3.225000e+05</td>\n",
       "    </tr>\n",
       "    <tr>\n",
       "      <th>50%</th>\n",
       "      <td>1.680511e+06</td>\n",
       "    </tr>\n",
       "    <tr>\n",
       "      <th>75%</th>\n",
       "      <td>7.000000e+06</td>\n",
       "    </tr>\n",
       "    <tr>\n",
       "      <th>max</th>\n",
       "      <td>2.127194e+10</td>\n",
       "    </tr>\n",
       "  </tbody>\n",
       "</table>\n",
       "</div>"
      ],
      "text/plain": [
       "       raised_amount_usd\n",
       "count       9.495900e+04\n",
       "mean        1.042687e+07\n",
       "std         1.148212e+08\n",
       "min         0.000000e+00\n",
       "25%         3.225000e+05\n",
       "50%         1.680511e+06\n",
       "75%         7.000000e+06\n",
       "max         2.127194e+10"
      ]
     },
     "execution_count": 11,
     "metadata": {},
     "output_type": "execute_result"
    }
   ],
   "source": [
    "#describing rounds2 dataset\n",
    "rounds2.describe()"
   ]
  },
  {
   "cell_type": "markdown",
   "id": "ee9d48d3",
   "metadata": {},
   "source": [
    "# Checkpoint 1 : Data Cleaning 1"
   ]
  },
  {
   "cell_type": "code",
   "execution_count": 12,
   "id": "7af4a429",
   "metadata": {},
   "outputs": [],
   "source": [
    "#it has been observed that there are some data in company_permalink(companies dataset) and permalink(rounds2 dataset) which is repetative in upper case. So therefore, using lower() function\n",
    "#data can be converted to make it unique\n",
    "rounds2['company_permalink'] = rounds2['company_permalink'].str.lower().tolist()\n",
    "companies['permalink'] = companies['permalink'].str.lower().tolist()"
   ]
  },
  {
   "cell_type": "code",
   "execution_count": 13,
   "id": "0c3f5160",
   "metadata": {},
   "outputs": [
    {
     "name": "stdout",
     "output_type": "stream",
     "text": [
      "Difference is data of companies and rounds2 data after coverting into lower case:  7\n",
      "\n",
      "Data are:  {'/organization/magnet-tech-ç£\\x81ç\\x9f³ç§\\x91æ\\x8a\\x80', '/organization/energystone-games-ç\\x81µç\\x9f³æ¸¸æ\\x88\\x8f', '/organization/huizuche-com-æ\\x83\\xa0ç§ÿè½¦', '/organization/zengame-ç¦\\x85æ¸¸ç§\\x91æ\\x8a\\x80', '/organization/e-cã\\x8abica', '/organization/tipcat-interactive-æ²\\x99è\\x88ÿä¿¡æ\\x81¯ç§\\x91æ\\x9a\\x80', '/organization/weiche-tech-å\\x96\\x82è½¦ç§\\x91æ\\x8a\\x80'}\n"
     ]
    }
   ],
   "source": [
    "#now here we can observe that after converting data into lower case, difference in data is 7\n",
    "difference=set(rounds2['company_permalink'])-set(companies['permalink'])\n",
    "print(\"Difference is data of companies and rounds2 data after coverting into lower case: \",len(difference))\n",
    "print(\"\\nData are: \",difference)"
   ]
  },
  {
   "cell_type": "markdown",
   "id": "5c216458",
   "metadata": {},
   "source": [
    "#### Above, we can observe that data has some encoding issues, we need to encode and then decode it"
   ]
  },
  {
   "cell_type": "code",
   "execution_count": 14,
   "id": "f4266505",
   "metadata": {},
   "outputs": [],
   "source": [
    "rounds2['company_permalink'] = rounds2['company_permalink'].str.encode('ISO-8859-1').str.decode('ascii','ignore')\n",
    "companies['permalink'] = companies['permalink'].str.encode('ISO-8859-1').str.decode('ascii','ignore')"
   ]
  },
  {
   "cell_type": "markdown",
   "id": "2106a2bf",
   "metadata": {},
   "source": [
    "#### 1) How many unique companies are present in rounds2?"
   ]
  },
  {
   "cell_type": "code",
   "execution_count": 15,
   "id": "e3983201",
   "metadata": {},
   "outputs": [
    {
     "name": "stdout",
     "output_type": "stream",
     "text": [
      "Unique companies in rounds2 are:  66368\n"
     ]
    }
   ],
   "source": [
    "print(\"Unique companies in rounds2 are: \",rounds2['company_permalink'].nunique())"
   ]
  },
  {
   "cell_type": "markdown",
   "id": "7515afdf",
   "metadata": {},
   "source": [
    "#### 2) How many unique companies are present in companies?"
   ]
  },
  {
   "cell_type": "code",
   "execution_count": 16,
   "id": "2780a93f",
   "metadata": {},
   "outputs": [
    {
     "name": "stdout",
     "output_type": "stream",
     "text": [
      "Unique companies in companies are:  66368\n"
     ]
    }
   ],
   "source": [
    "print(\"Unique companies in companies are: \",companies['permalink'].nunique())"
   ]
  },
  {
   "cell_type": "markdown",
   "id": "f524de1a",
   "metadata": {},
   "source": [
    "#### 4) Are there any companies in the rounds2 file which are not present in companies? Answer yes or no: Y/N"
   ]
  },
  {
   "cell_type": "code",
   "execution_count": 17,
   "id": "61c7a475",
   "metadata": {},
   "outputs": [
    {
     "name": "stdout",
     "output_type": "stream",
     "text": [
      "Difference in companies and companies in round 2 are:  0\n"
     ]
    }
   ],
   "source": [
    "final_difference = (rounds2['company_permalink'].nunique())-(companies['permalink'].nunique())\n",
    "print(\"Difference in companies and companies in round 2 are: \",final_difference)"
   ]
  },
  {
   "cell_type": "markdown",
   "id": "b206b299",
   "metadata": {},
   "source": [
    "#### 5) Merge the two data frames so that all variables (columns) in the companies frame are added to the rounds2 data frame. Name the merged frame master_frame. How many observations are present in master_frame?"
   ]
  },
  {
   "cell_type": "code",
   "execution_count": 18,
   "id": "7c74b211",
   "metadata": {},
   "outputs": [
    {
     "data": {
      "text/plain": [
       "(114949, 17)"
      ]
     },
     "execution_count": 18,
     "metadata": {},
     "output_type": "execute_result"
    }
   ],
   "source": [
    "#merging companies and rounds2 dataset\n",
    "master_frame=pd.merge(companies,rounds2,left_on=companies['permalink'],right_on=rounds2['company_permalink'],how='inner')\n",
    "master_frame.shape"
   ]
  },
  {
   "cell_type": "code",
   "execution_count": 19,
   "id": "6fe05620",
   "metadata": {},
   "outputs": [
    {
     "data": {
      "text/html": [
       "<div>\n",
       "<style scoped>\n",
       "    .dataframe tbody tr th:only-of-type {\n",
       "        vertical-align: middle;\n",
       "    }\n",
       "\n",
       "    .dataframe tbody tr th {\n",
       "        vertical-align: top;\n",
       "    }\n",
       "\n",
       "    .dataframe thead th {\n",
       "        text-align: right;\n",
       "    }\n",
       "</style>\n",
       "<table border=\"1\" class=\"dataframe\">\n",
       "  <thead>\n",
       "    <tr style=\"text-align: right;\">\n",
       "      <th></th>\n",
       "      <th>key_0</th>\n",
       "      <th>permalink</th>\n",
       "      <th>name</th>\n",
       "      <th>homepage_url</th>\n",
       "      <th>category_list</th>\n",
       "      <th>status</th>\n",
       "      <th>country_code</th>\n",
       "      <th>state_code</th>\n",
       "      <th>region</th>\n",
       "      <th>city</th>\n",
       "      <th>founded_at</th>\n",
       "      <th>company_permalink</th>\n",
       "      <th>funding_round_permalink</th>\n",
       "      <th>funding_round_type</th>\n",
       "      <th>funding_round_code</th>\n",
       "      <th>funded_at</th>\n",
       "      <th>raised_amount_usd</th>\n",
       "    </tr>\n",
       "  </thead>\n",
       "  <tbody>\n",
       "    <tr>\n",
       "      <th>0</th>\n",
       "      <td>/organization/-fame</td>\n",
       "      <td>/organization/-fame</td>\n",
       "      <td>#fame</td>\n",
       "      <td>http://livfame.com</td>\n",
       "      <td>Media</td>\n",
       "      <td>operating</td>\n",
       "      <td>IND</td>\n",
       "      <td>16</td>\n",
       "      <td>Mumbai</td>\n",
       "      <td>Mumbai</td>\n",
       "      <td>NaN</td>\n",
       "      <td>/organization/-fame</td>\n",
       "      <td>/funding-round/9a01d05418af9f794eebff7ace91f638</td>\n",
       "      <td>venture</td>\n",
       "      <td>B</td>\n",
       "      <td>5/1/2015</td>\n",
       "      <td>10000000.0</td>\n",
       "    </tr>\n",
       "    <tr>\n",
       "      <th>1</th>\n",
       "      <td>/organization/-qounter</td>\n",
       "      <td>/organization/-qounter</td>\n",
       "      <td>:Qounter</td>\n",
       "      <td>http://www.qounter.com</td>\n",
       "      <td>Application Platforms|Real Time|Social Network...</td>\n",
       "      <td>operating</td>\n",
       "      <td>USA</td>\n",
       "      <td>DE</td>\n",
       "      <td>DE - Other</td>\n",
       "      <td>Delaware City</td>\n",
       "      <td>4/9/2014</td>\n",
       "      <td>/organization/-qounter</td>\n",
       "      <td>/funding-round/22dacff496eb7acb2b901dec1dfe5633</td>\n",
       "      <td>venture</td>\n",
       "      <td>A</td>\n",
       "      <td>14-10-2014</td>\n",
       "      <td>NaN</td>\n",
       "    </tr>\n",
       "    <tr>\n",
       "      <th>2</th>\n",
       "      <td>/organization/-qounter</td>\n",
       "      <td>/organization/-qounter</td>\n",
       "      <td>:Qounter</td>\n",
       "      <td>http://www.qounter.com</td>\n",
       "      <td>Application Platforms|Real Time|Social Network...</td>\n",
       "      <td>operating</td>\n",
       "      <td>USA</td>\n",
       "      <td>DE</td>\n",
       "      <td>DE - Other</td>\n",
       "      <td>Delaware City</td>\n",
       "      <td>4/9/2014</td>\n",
       "      <td>/organization/-qounter</td>\n",
       "      <td>/funding-round/b44fbb94153f6cdef13083530bb48030</td>\n",
       "      <td>seed</td>\n",
       "      <td>NaN</td>\n",
       "      <td>1/3/2014</td>\n",
       "      <td>700000.0</td>\n",
       "    </tr>\n",
       "    <tr>\n",
       "      <th>3</th>\n",
       "      <td>/organization/-the-one-of-them-inc-</td>\n",
       "      <td>/organization/-the-one-of-them-inc-</td>\n",
       "      <td>(THE) ONE of THEM,Inc.</td>\n",
       "      <td>http://oneofthem.jp</td>\n",
       "      <td>Apps|Games|Mobile</td>\n",
       "      <td>operating</td>\n",
       "      <td>NaN</td>\n",
       "      <td>NaN</td>\n",
       "      <td>NaN</td>\n",
       "      <td>NaN</td>\n",
       "      <td>NaN</td>\n",
       "      <td>/organization/-the-one-of-them-inc-</td>\n",
       "      <td>/funding-round/650b8f704416801069bb178a1418776b</td>\n",
       "      <td>venture</td>\n",
       "      <td>B</td>\n",
       "      <td>30-01-2014</td>\n",
       "      <td>3406878.0</td>\n",
       "    </tr>\n",
       "    <tr>\n",
       "      <th>4</th>\n",
       "      <td>/organization/0-6-com</td>\n",
       "      <td>/organization/0-6-com</td>\n",
       "      <td>0-6.com</td>\n",
       "      <td>http://www.0-6.com</td>\n",
       "      <td>Curated Web</td>\n",
       "      <td>operating</td>\n",
       "      <td>CHN</td>\n",
       "      <td>22</td>\n",
       "      <td>Beijing</td>\n",
       "      <td>Beijing</td>\n",
       "      <td>1/1/2007</td>\n",
       "      <td>/organization/0-6-com</td>\n",
       "      <td>/funding-round/5727accaeaa57461bd22a9bdd945382d</td>\n",
       "      <td>venture</td>\n",
       "      <td>A</td>\n",
       "      <td>19-03-2008</td>\n",
       "      <td>2000000.0</td>\n",
       "    </tr>\n",
       "  </tbody>\n",
       "</table>\n",
       "</div>"
      ],
      "text/plain": [
       "                                 key_0                            permalink  \\\n",
       "0                  /organization/-fame                  /organization/-fame   \n",
       "1               /organization/-qounter               /organization/-qounter   \n",
       "2               /organization/-qounter               /organization/-qounter   \n",
       "3  /organization/-the-one-of-them-inc-  /organization/-the-one-of-them-inc-   \n",
       "4                /organization/0-6-com                /organization/0-6-com   \n",
       "\n",
       "                     name            homepage_url  \\\n",
       "0                   #fame      http://livfame.com   \n",
       "1                :Qounter  http://www.qounter.com   \n",
       "2                :Qounter  http://www.qounter.com   \n",
       "3  (THE) ONE of THEM,Inc.     http://oneofthem.jp   \n",
       "4                 0-6.com      http://www.0-6.com   \n",
       "\n",
       "                                       category_list     status country_code  \\\n",
       "0                                              Media  operating          IND   \n",
       "1  Application Platforms|Real Time|Social Network...  operating          USA   \n",
       "2  Application Platforms|Real Time|Social Network...  operating          USA   \n",
       "3                                  Apps|Games|Mobile  operating          NaN   \n",
       "4                                        Curated Web  operating          CHN   \n",
       "\n",
       "  state_code      region           city founded_at  \\\n",
       "0         16      Mumbai         Mumbai        NaN   \n",
       "1         DE  DE - Other  Delaware City   4/9/2014   \n",
       "2         DE  DE - Other  Delaware City   4/9/2014   \n",
       "3        NaN         NaN            NaN        NaN   \n",
       "4         22     Beijing        Beijing   1/1/2007   \n",
       "\n",
       "                     company_permalink  \\\n",
       "0                  /organization/-fame   \n",
       "1               /organization/-qounter   \n",
       "2               /organization/-qounter   \n",
       "3  /organization/-the-one-of-them-inc-   \n",
       "4                /organization/0-6-com   \n",
       "\n",
       "                           funding_round_permalink funding_round_type  \\\n",
       "0  /funding-round/9a01d05418af9f794eebff7ace91f638            venture   \n",
       "1  /funding-round/22dacff496eb7acb2b901dec1dfe5633            venture   \n",
       "2  /funding-round/b44fbb94153f6cdef13083530bb48030               seed   \n",
       "3  /funding-round/650b8f704416801069bb178a1418776b            venture   \n",
       "4  /funding-round/5727accaeaa57461bd22a9bdd945382d            venture   \n",
       "\n",
       "  funding_round_code   funded_at  raised_amount_usd  \n",
       "0                  B    5/1/2015         10000000.0  \n",
       "1                  A  14-10-2014                NaN  \n",
       "2                NaN    1/3/2014           700000.0  \n",
       "3                  B  30-01-2014          3406878.0  \n",
       "4                  A  19-03-2008          2000000.0  "
      ]
     },
     "execution_count": 19,
     "metadata": {},
     "output_type": "execute_result"
    }
   ],
   "source": [
    "#check master_frame\n",
    "master_frame.head(5)"
   ]
  },
  {
   "cell_type": "code",
   "execution_count": 20,
   "id": "ec613f62",
   "metadata": {},
   "outputs": [
    {
     "name": "stdout",
     "output_type": "stream",
     "text": [
      "<class 'pandas.core.frame.DataFrame'>\n",
      "Int64Index: 114949 entries, 0 to 114948\n",
      "Data columns (total 17 columns):\n",
      " #   Column                   Non-Null Count   Dtype  \n",
      "---  ------                   --------------   -----  \n",
      " 0   key_0                    114949 non-null  object \n",
      " 1   permalink                114949 non-null  object \n",
      " 2   name                     114948 non-null  object \n",
      " 3   homepage_url             108815 non-null  object \n",
      " 4   category_list            111539 non-null  object \n",
      " 5   status                   114949 non-null  object \n",
      " 6   country_code             106271 non-null  object \n",
      " 7   state_code               104003 non-null  object \n",
      " 8   region                   104782 non-null  object \n",
      " 9   city                     104785 non-null  object \n",
      " 10  founded_at               94428 non-null   object \n",
      " 11  company_permalink        114949 non-null  object \n",
      " 12  funding_round_permalink  114949 non-null  object \n",
      " 13  funding_round_type       114949 non-null  object \n",
      " 14  funding_round_code       31140 non-null   object \n",
      " 15  funded_at                114949 non-null  object \n",
      " 16  raised_amount_usd        94959 non-null   float64\n",
      "dtypes: float64(1), object(16)\n",
      "memory usage: 15.8+ MB\n"
     ]
    }
   ],
   "source": [
    "#getting information of merged dataset\n",
    "master_frame.info()"
   ]
  },
  {
   "cell_type": "code",
   "execution_count": 21,
   "id": "2e232f4c",
   "metadata": {},
   "outputs": [
    {
     "data": {
      "text/plain": [
       "key_0                          0\n",
       "permalink                      0\n",
       "name                           1\n",
       "homepage_url                6134\n",
       "category_list               3410\n",
       "status                         0\n",
       "country_code                8678\n",
       "state_code                 10946\n",
       "region                     10167\n",
       "city                       10164\n",
       "founded_at                 20521\n",
       "company_permalink              0\n",
       "funding_round_permalink        0\n",
       "funding_round_type             0\n",
       "funding_round_code         83809\n",
       "funded_at                      0\n",
       "raised_amount_usd          19990\n",
       "dtype: int64"
      ]
     },
     "execution_count": 21,
     "metadata": {},
     "output_type": "execute_result"
    }
   ],
   "source": [
    "#checking null values in merged dataset (master_frame)\n",
    "master_frame.isnull().sum()"
   ]
  },
  {
   "cell_type": "markdown",
   "id": "4481900a",
   "metadata": {},
   "source": [
    "# Checkpoint 2: Funding Type Analysis"
   ]
  },
  {
   "cell_type": "markdown",
   "id": "a77996a1",
   "metadata": {},
   "source": [
    "#### Removing redundant columns "
   ]
  },
  {
   "cell_type": "code",
   "execution_count": 22,
   "id": "e7fd8c3a",
   "metadata": {},
   "outputs": [
    {
     "data": {
      "text/plain": [
       "permalink                 0\n",
       "category_list          3410\n",
       "country_code           8678\n",
       "company_permalink         0\n",
       "funding_round_type        0\n",
       "raised_amount_usd     19990\n",
       "dtype: int64"
      ]
     },
     "execution_count": 22,
     "metadata": {},
     "output_type": "execute_result"
    }
   ],
   "source": [
    "master_frame =  master_frame.drop(['key_0','state_code', 'region', 'city', 'founded_at','funding_round_permalink',\n",
    "       'funding_round_code', 'funded_at','name','homepage_url','status'], axis=1)\n",
    "master_frame.isnull().sum()"
   ]
  },
  {
   "cell_type": "code",
   "execution_count": 23,
   "id": "8aabf97a",
   "metadata": {},
   "outputs": [
    {
     "data": {
      "text/plain": [
       "permalink              0.00\n",
       "category_list          2.97\n",
       "country_code           7.55\n",
       "company_permalink      0.00\n",
       "funding_round_type     0.00\n",
       "raised_amount_usd     17.39\n",
       "dtype: float64"
      ]
     },
     "execution_count": 23,
     "metadata": {},
     "output_type": "execute_result"
    }
   ],
   "source": [
    "#Determining missing values in percentage\n",
    "round(100*master_frame.isnull().sum()/len(master_frame.index),2)"
   ]
  },
  {
   "cell_type": "code",
   "execution_count": 24,
   "id": "94510043",
   "metadata": {},
   "outputs": [
    {
     "data": {
      "text/plain": [
       "array(['venture', 'seed', 'undisclosed', 'equity_crowdfunding',\n",
       "       'convertible_note', 'private_equity', 'debt_financing', 'angel',\n",
       "       'grant', 'secondary_market', 'post_ipo_equity', 'post_ipo_debt',\n",
       "       'product_crowdfunding', 'non_equity_assistance'], dtype=object)"
      ]
     },
     "execution_count": 24,
     "metadata": {},
     "output_type": "execute_result"
    }
   ],
   "source": [
    "#checking unique values of funding type\n",
    "master_frame['funding_round_type'].unique()"
   ]
  },
  {
   "cell_type": "code",
   "execution_count": 25,
   "id": "b86c33ae",
   "metadata": {},
   "outputs": [
    {
     "data": {
      "image/png": "[encoded data removed]",
      "text/plain": [
       "<Figure size 1800x720 with 1 Axes>"
      ]
     },
     "metadata": {
      "needs_background": "light"
     },
     "output_type": "display_data"
    }
   ],
   "source": [
    "# boxplot of a variable across all 14 funding categories\n",
    "plt.figure(figsize=(25,10))\n",
    "sns.barplot(x='funding_round_type',y='raised_amount_usd',data=master_frame)\n",
    "plt.yscale('log')\n",
    "plt.show()"
   ]
  },
  {
   "cell_type": "code",
   "execution_count": 26,
   "id": "f7db4823",
   "metadata": {},
   "outputs": [
    {
     "data": {
      "image/png": "[encoded data removed]",
      "text/plain": [
       "<Figure size 1440x1080 with 1 Axes>"
      ]
     },
     "metadata": {
      "needs_background": "light"
     },
     "output_type": "display_data"
    }
   ],
   "source": [
    "# Plotting count across a categorical variable(funding_round_type)\n",
    "plt.figure(figsize=(20, 15))\n",
    "sns.countplot(y=\"funding_round_type\", data=master_frame)\n",
    "plt.show()"
   ]
  },
  {
   "cell_type": "code",
   "execution_count": 27,
   "id": "cc735fae",
   "metadata": {},
   "outputs": [
    {
     "data": {
      "text/html": [
       "<div>\n",
       "<style scoped>\n",
       "    .dataframe tbody tr th:only-of-type {\n",
       "        vertical-align: middle;\n",
       "    }\n",
       "\n",
       "    .dataframe tbody tr th {\n",
       "        vertical-align: top;\n",
       "    }\n",
       "\n",
       "    .dataframe thead th {\n",
       "        text-align: right;\n",
       "    }\n",
       "</style>\n",
       "<table border=\"1\" class=\"dataframe\">\n",
       "  <thead>\n",
       "    <tr style=\"text-align: right;\">\n",
       "      <th></th>\n",
       "      <th>permalink</th>\n",
       "      <th>category_list</th>\n",
       "      <th>country_code</th>\n",
       "      <th>company_permalink</th>\n",
       "      <th>funding_round_type</th>\n",
       "      <th>raised_amount_usd</th>\n",
       "    </tr>\n",
       "  </thead>\n",
       "  <tbody>\n",
       "    <tr>\n",
       "      <th>108971</th>\n",
       "      <td>/organization/wacai</td>\n",
       "      <td>Software</td>\n",
       "      <td>CHN</td>\n",
       "      <td>/organization/wacai</td>\n",
       "      <td>venture</td>\n",
       "      <td>15000000.0</td>\n",
       "    </tr>\n",
       "    <tr>\n",
       "      <th>80700</th>\n",
       "      <td>/organization/quixey</td>\n",
       "      <td>Technology</td>\n",
       "      <td>USA</td>\n",
       "      <td>/organization/quixey</td>\n",
       "      <td>venture</td>\n",
       "      <td>3800000.0</td>\n",
       "    </tr>\n",
       "    <tr>\n",
       "      <th>95168</th>\n",
       "      <td>/organization/storefront</td>\n",
       "      <td>Commercial Real Estate|Fashion|Marketplaces|Re...</td>\n",
       "      <td>USA</td>\n",
       "      <td>/organization/storefront</td>\n",
       "      <td>venture</td>\n",
       "      <td>7300000.0</td>\n",
       "    </tr>\n",
       "    <tr>\n",
       "      <th>59695</th>\n",
       "      <td>/organization/maxwest-environmental-systems</td>\n",
       "      <td>Clean Technology</td>\n",
       "      <td>USA</td>\n",
       "      <td>/organization/maxwest-environmental-systems</td>\n",
       "      <td>venture</td>\n",
       "      <td>32500000.0</td>\n",
       "    </tr>\n",
       "    <tr>\n",
       "      <th>108079</th>\n",
       "      <td>/organization/vitriflex</td>\n",
       "      <td>Clean Technology</td>\n",
       "      <td>NaN</td>\n",
       "      <td>/organization/vitriflex</td>\n",
       "      <td>venture</td>\n",
       "      <td>4900001.0</td>\n",
       "    </tr>\n",
       "    <tr>\n",
       "      <th>55967</th>\n",
       "      <td>/organization/lili---beauty</td>\n",
       "      <td>Retail</td>\n",
       "      <td>CHN</td>\n",
       "      <td>/organization/lili---beauty</td>\n",
       "      <td>venture</td>\n",
       "      <td>100000000.0</td>\n",
       "    </tr>\n",
       "    <tr>\n",
       "      <th>103608</th>\n",
       "      <td>/organization/turbine-analytics-s-a</td>\n",
       "      <td>Analytics|Big Data|Information Services|Risk M...</td>\n",
       "      <td>POL</td>\n",
       "      <td>/organization/turbine-analytics-s-a</td>\n",
       "      <td>seed</td>\n",
       "      <td>1000000.0</td>\n",
       "    </tr>\n",
       "    <tr>\n",
       "      <th>97492</th>\n",
       "      <td>/organization/takelessons-com</td>\n",
       "      <td>Education|Local|Marketplaces|Music|Services|So...</td>\n",
       "      <td>USA</td>\n",
       "      <td>/organization/takelessons-com</td>\n",
       "      <td>venture</td>\n",
       "      <td>4000000.0</td>\n",
       "    </tr>\n",
       "    <tr>\n",
       "      <th>15713</th>\n",
       "      <td>/organization/burstmedia</td>\n",
       "      <td>Advertising</td>\n",
       "      <td>USA</td>\n",
       "      <td>/organization/burstmedia</td>\n",
       "      <td>private_equity</td>\n",
       "      <td>15000000.0</td>\n",
       "    </tr>\n",
       "    <tr>\n",
       "      <th>74044</th>\n",
       "      <td>/organization/peek-com</td>\n",
       "      <td>Curated Web|E-Commerce|Internet|Marketplaces|M...</td>\n",
       "      <td>USA</td>\n",
       "      <td>/organization/peek-com</td>\n",
       "      <td>seed</td>\n",
       "      <td>1400000.0</td>\n",
       "    </tr>\n",
       "  </tbody>\n",
       "</table>\n",
       "</div>"
      ],
      "text/plain": [
       "                                          permalink  \\\n",
       "108971                          /organization/wacai   \n",
       "80700                          /organization/quixey   \n",
       "95168                      /organization/storefront   \n",
       "59695   /organization/maxwest-environmental-systems   \n",
       "108079                      /organization/vitriflex   \n",
       "55967                   /organization/lili---beauty   \n",
       "103608          /organization/turbine-analytics-s-a   \n",
       "97492                 /organization/takelessons-com   \n",
       "15713                      /organization/burstmedia   \n",
       "74044                        /organization/peek-com   \n",
       "\n",
       "                                            category_list country_code  \\\n",
       "108971                                           Software          CHN   \n",
       "80700                                          Technology          USA   \n",
       "95168   Commercial Real Estate|Fashion|Marketplaces|Re...          USA   \n",
       "59695                                    Clean Technology          USA   \n",
       "108079                                   Clean Technology          NaN   \n",
       "55967                                              Retail          CHN   \n",
       "103608  Analytics|Big Data|Information Services|Risk M...          POL   \n",
       "97492   Education|Local|Marketplaces|Music|Services|So...          USA   \n",
       "15713                                         Advertising          USA   \n",
       "74044   Curated Web|E-Commerce|Internet|Marketplaces|M...          USA   \n",
       "\n",
       "                                  company_permalink funding_round_type  \\\n",
       "108971                          /organization/wacai            venture   \n",
       "80700                          /organization/quixey            venture   \n",
       "95168                      /organization/storefront            venture   \n",
       "59695   /organization/maxwest-environmental-systems            venture   \n",
       "108079                      /organization/vitriflex            venture   \n",
       "55967                   /organization/lili---beauty            venture   \n",
       "103608          /organization/turbine-analytics-s-a               seed   \n",
       "97492                 /organization/takelessons-com            venture   \n",
       "15713                      /organization/burstmedia     private_equity   \n",
       "74044                        /organization/peek-com               seed   \n",
       "\n",
       "        raised_amount_usd  \n",
       "108971         15000000.0  \n",
       "80700           3800000.0  \n",
       "95168           7300000.0  \n",
       "59695          32500000.0  \n",
       "108079          4900001.0  \n",
       "55967         100000000.0  \n",
       "103608          1000000.0  \n",
       "97492           4000000.0  \n",
       "15713          15000000.0  \n",
       "74044           1400000.0  "
      ]
     },
     "execution_count": 27,
     "metadata": {},
     "output_type": "execute_result"
    }
   ],
   "source": [
    "#keeping the four funding types (venture, angel, seed, and private equity) as the requirement\n",
    "master_frame=master_frame[master_frame.funding_round_type.isin(['venture','seed','angel','private_equity'])]\n",
    "master_frame.sample(10)"
   ]
  },
  {
   "cell_type": "code",
   "execution_count": 28,
   "id": "00c3bb95",
   "metadata": {},
   "outputs": [
    {
     "data": {
      "text/plain": [
       "(94397, 6)"
      ]
     },
     "execution_count": 28,
     "metadata": {},
     "output_type": "execute_result"
    }
   ],
   "source": [
    "#shape of merged dataset(master_frame)\n",
    "master_frame.shape"
   ]
  },
  {
   "cell_type": "code",
   "execution_count": 29,
   "id": "63bd3521",
   "metadata": {},
   "outputs": [],
   "source": [
    "#as there are 14% missing values in raised_amount_usd and it is one of the important column, so I dropped this column as Null values in this column would affect analysis\n",
    "master_frame=master_frame.loc[~(master_frame.raised_amount_usd.isnull())]"
   ]
  },
  {
   "cell_type": "code",
   "execution_count": 30,
   "id": "a16ce91f",
   "metadata": {},
   "outputs": [
    {
     "data": {
      "text/plain": [
       "permalink             0.00\n",
       "category_list         1.06\n",
       "country_code          6.23\n",
       "company_permalink     0.00\n",
       "funding_round_type    0.00\n",
       "raised_amount_usd     0.00\n",
       "dtype: float64"
      ]
     },
     "execution_count": 30,
     "metadata": {},
     "output_type": "execute_result"
    }
   ],
   "source": [
    "#again checking missing values in percentage\n",
    "round(100*master_frame.isnull().sum()/len(master_frame.index),2)"
   ]
  },
  {
   "cell_type": "code",
   "execution_count": 31,
   "id": "aaed7de9",
   "metadata": {},
   "outputs": [
    {
     "data": {
      "text/html": [
       "<div>\n",
       "<style scoped>\n",
       "    .dataframe tbody tr th:only-of-type {\n",
       "        vertical-align: middle;\n",
       "    }\n",
       "\n",
       "    .dataframe tbody tr th {\n",
       "        vertical-align: top;\n",
       "    }\n",
       "\n",
       "    .dataframe thead th {\n",
       "        text-align: right;\n",
       "    }\n",
       "</style>\n",
       "<table border=\"1\" class=\"dataframe\">\n",
       "  <thead>\n",
       "    <tr style=\"text-align: right;\">\n",
       "      <th></th>\n",
       "      <th>permalink</th>\n",
       "      <th>category_list</th>\n",
       "      <th>country_code</th>\n",
       "      <th>company_permalink</th>\n",
       "      <th>funding_round_type</th>\n",
       "      <th>raised_amount_usd</th>\n",
       "    </tr>\n",
       "  </thead>\n",
       "  <tbody>\n",
       "    <tr>\n",
       "      <th>0</th>\n",
       "      <td>/organization/-fame</td>\n",
       "      <td>Media</td>\n",
       "      <td>IND</td>\n",
       "      <td>/organization/-fame</td>\n",
       "      <td>venture</td>\n",
       "      <td>10000000.0</td>\n",
       "    </tr>\n",
       "    <tr>\n",
       "      <th>2</th>\n",
       "      <td>/organization/-qounter</td>\n",
       "      <td>Application Platforms|Real Time|Social Network...</td>\n",
       "      <td>USA</td>\n",
       "      <td>/organization/-qounter</td>\n",
       "      <td>seed</td>\n",
       "      <td>700000.0</td>\n",
       "    </tr>\n",
       "    <tr>\n",
       "      <th>4</th>\n",
       "      <td>/organization/0-6-com</td>\n",
       "      <td>Curated Web</td>\n",
       "      <td>CHN</td>\n",
       "      <td>/organization/0-6-com</td>\n",
       "      <td>venture</td>\n",
       "      <td>2000000.0</td>\n",
       "    </tr>\n",
       "    <tr>\n",
       "      <th>7</th>\n",
       "      <td>/organization/0ndine-biomedical-inc</td>\n",
       "      <td>Biotechnology</td>\n",
       "      <td>CAN</td>\n",
       "      <td>/organization/0ndine-biomedical-inc</td>\n",
       "      <td>seed</td>\n",
       "      <td>43360.0</td>\n",
       "    </tr>\n",
       "    <tr>\n",
       "      <th>8</th>\n",
       "      <td>/organization/0ndine-biomedical-inc</td>\n",
       "      <td>Biotechnology</td>\n",
       "      <td>CAN</td>\n",
       "      <td>/organization/0ndine-biomedical-inc</td>\n",
       "      <td>venture</td>\n",
       "      <td>719491.0</td>\n",
       "    </tr>\n",
       "  </tbody>\n",
       "</table>\n",
       "</div>"
      ],
      "text/plain": [
       "                             permalink  \\\n",
       "0                  /organization/-fame   \n",
       "2               /organization/-qounter   \n",
       "4                /organization/0-6-com   \n",
       "7  /organization/0ndine-biomedical-inc   \n",
       "8  /organization/0ndine-biomedical-inc   \n",
       "\n",
       "                                       category_list country_code  \\\n",
       "0                                              Media          IND   \n",
       "2  Application Platforms|Real Time|Social Network...          USA   \n",
       "4                                        Curated Web          CHN   \n",
       "7                                      Biotechnology          CAN   \n",
       "8                                      Biotechnology          CAN   \n",
       "\n",
       "                     company_permalink funding_round_type  raised_amount_usd  \n",
       "0                  /organization/-fame            venture         10000000.0  \n",
       "2               /organization/-qounter               seed           700000.0  \n",
       "4                /organization/0-6-com            venture          2000000.0  \n",
       "7  /organization/0ndine-biomedical-inc               seed            43360.0  \n",
       "8  /organization/0ndine-biomedical-inc            venture           719491.0  "
      ]
     },
     "execution_count": 31,
     "metadata": {},
     "output_type": "execute_result"
    }
   ],
   "source": [
    "#in category_list and country_code only 1% and 6% are null values, so Null values can be removed\n",
    "master_frame=master_frame.loc[~(master_frame.category_list.isnull() | master_frame.country_code.isnull())]\n",
    "master_frame.head()"
   ]
  },
  {
   "cell_type": "code",
   "execution_count": 32,
   "id": "49dc689b",
   "metadata": {},
   "outputs": [
    {
     "data": {
      "text/plain": [
       "permalink             0.0\n",
       "category_list         0.0\n",
       "country_code          0.0\n",
       "company_permalink     0.0\n",
       "funding_round_type    0.0\n",
       "raised_amount_usd     0.0\n",
       "dtype: float64"
      ]
     },
     "execution_count": 32,
     "metadata": {},
     "output_type": "execute_result"
    }
   ],
   "source": [
    "#checking null values in percentage and we can observe all null values are removed\n",
    "round(100*master_frame.isnull().sum()/len(master_frame.index),2)"
   ]
  },
  {
   "cell_type": "code",
   "execution_count": 33,
   "id": "d72a5ec2",
   "metadata": {},
   "outputs": [
    {
     "data": {
      "text/plain": [
       "venture           47809\n",
       "seed              21095\n",
       "angel              4400\n",
       "private_equity     1820\n",
       "Name: funding_round_type, dtype: int64"
      ]
     },
     "execution_count": 33,
     "metadata": {},
     "output_type": "execute_result"
    }
   ],
   "source": [
    "#getting total number of counts in funding type\n",
    "master_frame.funding_round_type.value_counts()"
   ]
  },
  {
   "cell_type": "code",
   "execution_count": 34,
   "id": "7a1c7529",
   "metadata": {},
   "outputs": [
    {
     "name": "stderr",
     "output_type": "stream",
     "text": [
      "C:\\Users\\sonas_000\\anaconda3\\lib\\site-packages\\seaborn\\_decorators.py:36: FutureWarning: Pass the following variables as keyword args: x, y. From version 0.12, the only valid positional argument will be `data`, and passing other arguments without an explicit keyword will result in an error or misinterpretation.\n",
      "  warnings.warn(\n"
     ]
    },
    {
     "data": {
      "image/png": "[encoded data removed]",
      "text/plain": [
       "<Figure size 720x432 with 1 Axes>"
      ]
     },
     "metadata": {
      "needs_background": "light"
     },
     "output_type": "display_data"
    }
   ],
   "source": [
    "#visualising categorical variable(funding_round_type) using boxplot\n",
    "fig_dims = (10, 6)\n",
    "fig, ax = plt.subplots(figsize=fig_dims)\n",
    "sns.boxplot(master_frame['raised_amount_usd'],master_frame['funding_round_type'])\n",
    "plt.xscale('log')\n",
    "plt.show()\n"
   ]
  },
  {
   "cell_type": "markdown",
   "id": "635803ed",
   "metadata": {},
   "source": [
    "### Note: In above plot, we can observe outliers in raised_amount_usd for all funding types, so therefore *median* should be used for representing all funding type"
   ]
  },
  {
   "cell_type": "markdown",
   "id": "4bf9d1f9",
   "metadata": {},
   "source": [
    "#### 1)Representative funding amount of venture type\n",
    "\n",
    "#### 2)Representative funding amount of angel type\n",
    "\n",
    "#### 3)Representative funding amount of seed type\n",
    "\n",
    "#### 4)Representative funding amount of private equity type"
   ]
  },
  {
   "cell_type": "code",
   "execution_count": 35,
   "id": "acef3f81",
   "metadata": {},
   "outputs": [
    {
     "data": {
      "text/plain": [
       "funding_round_type\n",
       "angel               414906.0\n",
       "private_equity    20000000.0\n",
       "seed                300000.0\n",
       "venture            5000000.0\n",
       "Name: raised_amount_usd, dtype: float64"
      ]
     },
     "execution_count": 35,
     "metadata": {},
     "output_type": "execute_result"
    }
   ],
   "source": [
    "#calculate the median for different funding types i.e. seed, angel, venture and private equity in millions\n",
    "master_frame.groupby(master_frame['funding_round_type'])['raised_amount_usd'].median().round(2)"
   ]
  },
  {
   "cell_type": "markdown",
   "id": "1d1f4124",
   "metadata": {},
   "source": [
    "#### Check point 5 : Plot 1:  A plot showing the representative amount of investment in each funding type. This chart should make it clear that a certain funding type (FT) is best suited for Spark Funds.   "
   ]
  },
  {
   "cell_type": "code",
   "execution_count": 36,
   "id": "99b1552a",
   "metadata": {},
   "outputs": [
    {
     "data": {
      "image/png": "[encoded data removed]",
      "text/plain": [
       "<Figure size 1224x288 with 1 Axes>"
      ]
     },
     "metadata": {
      "needs_background": "light"
     },
     "output_type": "display_data"
    }
   ],
   "source": [
    "#plotting barplot\n",
    "plt.figure(figsize=(17,4))\n",
    "plt.subplot(1, 2, 2)\n",
    "sns.barplot(x='funding_round_type',y='raised_amount_usd',data=master_frame,estimator=np.median)\n",
    "plt.title(\"median\")\n",
    "plt.show()"
   ]
  },
  {
   "cell_type": "markdown",
   "id": "63683a09",
   "metadata": {},
   "source": [
    "#### 5)Considering that Spark Funds wants to invest between 5 to 15 million USD per  investment round, which investment type is the most suitable for them?\n",
    "It can be observed from above that venture type investment is 5 million USD and falls between 5-15M USD, so therefore investment type <b>Venture</b> is most suitable for spark fund. "
   ]
  },
  {
   "cell_type": "code",
   "execution_count": 37,
   "id": "78fb469b",
   "metadata": {},
   "outputs": [],
   "source": [
    "master_frame = master_frame[(master_frame['funding_round_type'] == 'venture')]"
   ]
  },
  {
   "cell_type": "code",
   "execution_count": 38,
   "id": "360779d6",
   "metadata": {},
   "outputs": [
    {
     "data": {
      "text/plain": [
       "(47809, 6)"
      ]
     },
     "execution_count": 38,
     "metadata": {},
     "output_type": "execute_result"
    }
   ],
   "source": [
    "master_frame.shape"
   ]
  },
  {
   "cell_type": "markdown",
   "id": "ea4703d0",
   "metadata": {},
   "source": [
    "# Checkpoint 3: Country Analysis"
   ]
  },
  {
   "cell_type": "markdown",
   "id": "c3b1767b",
   "metadata": {},
   "source": [
    "- Spark Funds wants to see the top nine countries which have received the highest total funding (across ALL sectors for the chosen investment type)\n",
    "- For the chosen investment type, make a data frame named top9 with the top nine countries (based on the total investment amount each country has received)"
   ]
  },
  {
   "cell_type": "code",
   "execution_count": 39,
   "id": "8e5e8797",
   "metadata": {},
   "outputs": [
    {
     "data": {
      "text/html": [
       "<div>\n",
       "<style scoped>\n",
       "    .dataframe tbody tr th:only-of-type {\n",
       "        vertical-align: middle;\n",
       "    }\n",
       "\n",
       "    .dataframe tbody tr th {\n",
       "        vertical-align: top;\n",
       "    }\n",
       "\n",
       "    .dataframe thead th {\n",
       "        text-align: right;\n",
       "    }\n",
       "</style>\n",
       "<table border=\"1\" class=\"dataframe\">\n",
       "  <thead>\n",
       "    <tr style=\"text-align: right;\">\n",
       "      <th></th>\n",
       "      <th>raised_amount_usd</th>\n",
       "    </tr>\n",
       "    <tr>\n",
       "      <th>country_code</th>\n",
       "      <th></th>\n",
       "    </tr>\n",
       "  </thead>\n",
       "  <tbody>\n",
       "    <tr>\n",
       "      <th>USA</th>\n",
       "      <td>4.200680e+11</td>\n",
       "    </tr>\n",
       "    <tr>\n",
       "      <th>CHN</th>\n",
       "      <td>3.933892e+10</td>\n",
       "    </tr>\n",
       "    <tr>\n",
       "      <th>GBR</th>\n",
       "      <td>2.007281e+10</td>\n",
       "    </tr>\n",
       "    <tr>\n",
       "      <th>IND</th>\n",
       "      <td>1.426151e+10</td>\n",
       "    </tr>\n",
       "    <tr>\n",
       "      <th>CAN</th>\n",
       "      <td>9.482218e+09</td>\n",
       "    </tr>\n",
       "    <tr>\n",
       "      <th>FRA</th>\n",
       "      <td>7.226851e+09</td>\n",
       "    </tr>\n",
       "    <tr>\n",
       "      <th>ISR</th>\n",
       "      <td>6.854350e+09</td>\n",
       "    </tr>\n",
       "    <tr>\n",
       "      <th>DEU</th>\n",
       "      <td>6.306922e+09</td>\n",
       "    </tr>\n",
       "    <tr>\n",
       "      <th>JPN</th>\n",
       "      <td>3.167647e+09</td>\n",
       "    </tr>\n",
       "  </tbody>\n",
       "</table>\n",
       "</div>"
      ],
      "text/plain": [
       "              raised_amount_usd\n",
       "country_code                   \n",
       "USA                4.200680e+11\n",
       "CHN                3.933892e+10\n",
       "GBR                2.007281e+10\n",
       "IND                1.426151e+10\n",
       "CAN                9.482218e+09\n",
       "FRA                7.226851e+09\n",
       "ISR                6.854350e+09\n",
       "DEU                6.306922e+09\n",
       "JPN                3.167647e+09"
      ]
     },
     "execution_count": 39,
     "metadata": {},
     "output_type": "execute_result"
    }
   ],
   "source": [
    "#creating pivot table representing total investment amount for each country to extract top 9 countries for choosen investment type (Venture)\n",
    "country=master_frame.pivot_table(index='country_code',values='raised_amount_usd',aggfunc=sum).sort_values(by='raised_amount_usd',ascending=False)\n",
    "top9=country[0:9]\n",
    "top9"
   ]
  },
  {
   "cell_type": "code",
   "execution_count": 40,
   "id": "e5ee7b87",
   "metadata": {},
   "outputs": [],
   "source": [
    "top9=top9.reset_index()"
   ]
  },
  {
   "cell_type": "markdown",
   "id": "a05a885c",
   "metadata": {},
   "source": [
    "#### Checkpoint 5: Plot 2 : A plot showing the top 9 countries against the total amount of investments of funding type FT. This should make the top 3 countries (Country 1, Country 2, and Country 3) very clear.    "
   ]
  },
  {
   "cell_type": "code",
   "execution_count": 41,
   "id": "8bacd234",
   "metadata": {},
   "outputs": [
    {
     "data": {
      "image/png": "[encoded data removed]",
      "text/plain": [
       "<Figure size 1440x720 with 1 Axes>"
      ]
     },
     "metadata": {
      "needs_background": "light"
     },
     "output_type": "display_data"
    }
   ],
   "source": [
    "# plotting bar graph for top 9 countries against the total amount of investments of venture as funding type\n",
    "plt.figure(figsize=(20,10))\n",
    "plt.subplot(1,2,1)\n",
    "plt.title(\"Top 9 countries against total amount of investeme of venture funding type\")\n",
    "sns.barplot(y='raised_amount_usd', x='country_code', data=top9)\n",
    "plt.show()\n"
   ]
  },
  {
   "cell_type": "code",
   "execution_count": 42,
   "id": "628b3e48",
   "metadata": {},
   "outputs": [
    {
     "data": {
      "text/plain": [
       "country_code\n",
       "USA    4.200680e+11\n",
       "GBR    2.007281e+10\n",
       "IND    1.426151e+10\n",
       "Name: raised_amount_usd, dtype: float64"
      ]
     },
     "execution_count": 42,
     "metadata": {},
     "output_type": "execute_result"
    }
   ],
   "source": [
    "#As per the link https://en.wikipedia.org/wiki/List_of_territorial_entities_where_English_is_an_official_language, top 3 countries who has official language as english are USA, GBR, and IND\n",
    "master_frame=master_frame[(master_frame['country_code']=='USA')|\n",
    "                         (master_frame['country_code']=='GBR')|\n",
    "                         (master_frame['country_code']=='IND')]\n",
    "master_frame.groupby('country_code')['raised_amount_usd'].sum().sort_values(ascending=False)"
   ]
  },
  {
   "cell_type": "code",
   "execution_count": 43,
   "id": "db6ab791",
   "metadata": {},
   "outputs": [
    {
     "data": {
      "text/html": [
       "<div>\n",
       "<style scoped>\n",
       "    .dataframe tbody tr th:only-of-type {\n",
       "        vertical-align: middle;\n",
       "    }\n",
       "\n",
       "    .dataframe tbody tr th {\n",
       "        vertical-align: top;\n",
       "    }\n",
       "\n",
       "    .dataframe thead th {\n",
       "        text-align: right;\n",
       "    }\n",
       "</style>\n",
       "<table border=\"1\" class=\"dataframe\">\n",
       "  <thead>\n",
       "    <tr style=\"text-align: right;\">\n",
       "      <th></th>\n",
       "      <th>permalink</th>\n",
       "      <th>category_list</th>\n",
       "      <th>country_code</th>\n",
       "      <th>company_permalink</th>\n",
       "      <th>funding_round_type</th>\n",
       "      <th>raised_amount_usd</th>\n",
       "    </tr>\n",
       "  </thead>\n",
       "  <tbody>\n",
       "    <tr>\n",
       "      <th>23785</th>\n",
       "      <td>/organization/cortexica</td>\n",
       "      <td>Brand Marketing|Graphics|Search|Software|Syste...</td>\n",
       "      <td>GBR</td>\n",
       "      <td>/organization/cortexica</td>\n",
       "      <td>venture</td>\n",
       "      <td>3450000.0</td>\n",
       "    </tr>\n",
       "    <tr>\n",
       "      <th>72332</th>\n",
       "      <td>/organization/owncloud</td>\n",
       "      <td>Enterprise Software</td>\n",
       "      <td>USA</td>\n",
       "      <td>/organization/owncloud</td>\n",
       "      <td>venture</td>\n",
       "      <td>6300000.0</td>\n",
       "    </tr>\n",
       "    <tr>\n",
       "      <th>88481</th>\n",
       "      <td>/organization/sharethe</td>\n",
       "      <td>Soccer|Social Media|Social Network Media|Sports</td>\n",
       "      <td>GBR</td>\n",
       "      <td>/organization/sharethe</td>\n",
       "      <td>venture</td>\n",
       "      <td>1551791.0</td>\n",
       "    </tr>\n",
       "    <tr>\n",
       "      <th>42430</th>\n",
       "      <td>/organization/guidespark</td>\n",
       "      <td>Enterprise Software</td>\n",
       "      <td>USA</td>\n",
       "      <td>/organization/guidespark</td>\n",
       "      <td>venture</td>\n",
       "      <td>15000000.0</td>\n",
       "    </tr>\n",
       "    <tr>\n",
       "      <th>63420</th>\n",
       "      <td>/organization/mojave-networks</td>\n",
       "      <td>Cloud Security|Fraud Detection|Mobile</td>\n",
       "      <td>USA</td>\n",
       "      <td>/organization/mojave-networks</td>\n",
       "      <td>venture</td>\n",
       "      <td>5000000.0</td>\n",
       "    </tr>\n",
       "    <tr>\n",
       "      <th>27972</th>\n",
       "      <td>/organization/dipexium-pharmaceuticals</td>\n",
       "      <td>Biotechnology|Health Care</td>\n",
       "      <td>USA</td>\n",
       "      <td>/organization/dipexium-pharmaceuticals</td>\n",
       "      <td>venture</td>\n",
       "      <td>930000.0</td>\n",
       "    </tr>\n",
       "    <tr>\n",
       "      <th>36443</th>\n",
       "      <td>/organization/flite</td>\n",
       "      <td>Advertising|Brand Marketing|Mobile Advertising...</td>\n",
       "      <td>USA</td>\n",
       "      <td>/organization/flite</td>\n",
       "      <td>venture</td>\n",
       "      <td>2999993.0</td>\n",
       "    </tr>\n",
       "    <tr>\n",
       "      <th>112392</th>\n",
       "      <td>/organization/xradia</td>\n",
       "      <td>Biotechnology</td>\n",
       "      <td>USA</td>\n",
       "      <td>/organization/xradia</td>\n",
       "      <td>venture</td>\n",
       "      <td>4000000.0</td>\n",
       "    </tr>\n",
       "    <tr>\n",
       "      <th>67516</th>\n",
       "      <td>/organization/newvoicemedia</td>\n",
       "      <td>Enterprise Software</td>\n",
       "      <td>GBR</td>\n",
       "      <td>/organization/newvoicemedia</td>\n",
       "      <td>venture</td>\n",
       "      <td>6300000.0</td>\n",
       "    </tr>\n",
       "    <tr>\n",
       "      <th>101399</th>\n",
       "      <td>/organization/top10-media</td>\n",
       "      <td>News</td>\n",
       "      <td>USA</td>\n",
       "      <td>/organization/top10-media</td>\n",
       "      <td>venture</td>\n",
       "      <td>3500000.0</td>\n",
       "    </tr>\n",
       "    <tr>\n",
       "      <th>78358</th>\n",
       "      <td>/organization/pro-pharmaceuticals</td>\n",
       "      <td>Biotechnology</td>\n",
       "      <td>USA</td>\n",
       "      <td>/organization/pro-pharmaceuticals</td>\n",
       "      <td>venture</td>\n",
       "      <td>325000.0</td>\n",
       "    </tr>\n",
       "    <tr>\n",
       "      <th>91195</th>\n",
       "      <td>/organization/smartvault</td>\n",
       "      <td>Document Management|File Sharing|SaaS|Software</td>\n",
       "      <td>USA</td>\n",
       "      <td>/organization/smartvault</td>\n",
       "      <td>venture</td>\n",
       "      <td>1300000.0</td>\n",
       "    </tr>\n",
       "    <tr>\n",
       "      <th>7141</th>\n",
       "      <td>/organization/aquarius-biotechnologies</td>\n",
       "      <td>Biotechnology</td>\n",
       "      <td>USA</td>\n",
       "      <td>/organization/aquarius-biotechnologies</td>\n",
       "      <td>venture</td>\n",
       "      <td>327260.0</td>\n",
       "    </tr>\n",
       "    <tr>\n",
       "      <th>94507</th>\n",
       "      <td>/organization/stanson-health</td>\n",
       "      <td>Health Care</td>\n",
       "      <td>USA</td>\n",
       "      <td>/organization/stanson-health</td>\n",
       "      <td>venture</td>\n",
       "      <td>3000000.0</td>\n",
       "    </tr>\n",
       "    <tr>\n",
       "      <th>60718</th>\n",
       "      <td>/organization/melior-discovery</td>\n",
       "      <td>Biotechnology</td>\n",
       "      <td>USA</td>\n",
       "      <td>/organization/melior-discovery</td>\n",
       "      <td>venture</td>\n",
       "      <td>2500000.0</td>\n",
       "    </tr>\n",
       "    <tr>\n",
       "      <th>13138</th>\n",
       "      <td>/organization/blink-7</td>\n",
       "      <td>Electronics</td>\n",
       "      <td>USA</td>\n",
       "      <td>/organization/blink-7</td>\n",
       "      <td>venture</td>\n",
       "      <td>5800000.0</td>\n",
       "    </tr>\n",
       "    <tr>\n",
       "      <th>83784</th>\n",
       "      <td>/organization/rfid-global-solution</td>\n",
       "      <td>Software</td>\n",
       "      <td>USA</td>\n",
       "      <td>/organization/rfid-global-solution</td>\n",
       "      <td>venture</td>\n",
       "      <td>2500000.0</td>\n",
       "    </tr>\n",
       "    <tr>\n",
       "      <th>113544</th>\n",
       "      <td>/organization/zannel</td>\n",
       "      <td>Messaging|Social Network Media</td>\n",
       "      <td>USA</td>\n",
       "      <td>/organization/zannel</td>\n",
       "      <td>venture</td>\n",
       "      <td>6000000.0</td>\n",
       "    </tr>\n",
       "    <tr>\n",
       "      <th>25853</th>\n",
       "      <td>/organization/dailybooth</td>\n",
       "      <td>Photo Sharing|Public Relations</td>\n",
       "      <td>USA</td>\n",
       "      <td>/organization/dailybooth</td>\n",
       "      <td>venture</td>\n",
       "      <td>6000000.0</td>\n",
       "    </tr>\n",
       "    <tr>\n",
       "      <th>62312</th>\n",
       "      <td>/organization/miox</td>\n",
       "      <td>Clean Technology</td>\n",
       "      <td>USA</td>\n",
       "      <td>/organization/miox</td>\n",
       "      <td>venture</td>\n",
       "      <td>19000000.0</td>\n",
       "    </tr>\n",
       "  </tbody>\n",
       "</table>\n",
       "</div>"
      ],
      "text/plain": [
       "                                     permalink  \\\n",
       "23785                  /organization/cortexica   \n",
       "72332                   /organization/owncloud   \n",
       "88481                   /organization/sharethe   \n",
       "42430                 /organization/guidespark   \n",
       "63420            /organization/mojave-networks   \n",
       "27972   /organization/dipexium-pharmaceuticals   \n",
       "36443                      /organization/flite   \n",
       "112392                    /organization/xradia   \n",
       "67516              /organization/newvoicemedia   \n",
       "101399               /organization/top10-media   \n",
       "78358        /organization/pro-pharmaceuticals   \n",
       "91195                 /organization/smartvault   \n",
       "7141    /organization/aquarius-biotechnologies   \n",
       "94507             /organization/stanson-health   \n",
       "60718           /organization/melior-discovery   \n",
       "13138                    /organization/blink-7   \n",
       "83784       /organization/rfid-global-solution   \n",
       "113544                    /organization/zannel   \n",
       "25853                 /organization/dailybooth   \n",
       "62312                       /organization/miox   \n",
       "\n",
       "                                            category_list country_code  \\\n",
       "23785   Brand Marketing|Graphics|Search|Software|Syste...          GBR   \n",
       "72332                                 Enterprise Software          USA   \n",
       "88481     Soccer|Social Media|Social Network Media|Sports          GBR   \n",
       "42430                                 Enterprise Software          USA   \n",
       "63420               Cloud Security|Fraud Detection|Mobile          USA   \n",
       "27972                           Biotechnology|Health Care          USA   \n",
       "36443   Advertising|Brand Marketing|Mobile Advertising...          USA   \n",
       "112392                                      Biotechnology          USA   \n",
       "67516                                 Enterprise Software          GBR   \n",
       "101399                                               News          USA   \n",
       "78358                                       Biotechnology          USA   \n",
       "91195      Document Management|File Sharing|SaaS|Software          USA   \n",
       "7141                                        Biotechnology          USA   \n",
       "94507                                         Health Care          USA   \n",
       "60718                                       Biotechnology          USA   \n",
       "13138                                         Electronics          USA   \n",
       "83784                                            Software          USA   \n",
       "113544                     Messaging|Social Network Media          USA   \n",
       "25853                      Photo Sharing|Public Relations          USA   \n",
       "62312                                    Clean Technology          USA   \n",
       "\n",
       "                             company_permalink funding_round_type  \\\n",
       "23785                  /organization/cortexica            venture   \n",
       "72332                   /organization/owncloud            venture   \n",
       "88481                   /organization/sharethe            venture   \n",
       "42430                 /organization/guidespark            venture   \n",
       "63420            /organization/mojave-networks            venture   \n",
       "27972   /organization/dipexium-pharmaceuticals            venture   \n",
       "36443                      /organization/flite            venture   \n",
       "112392                    /organization/xradia            venture   \n",
       "67516              /organization/newvoicemedia            venture   \n",
       "101399               /organization/top10-media            venture   \n",
       "78358        /organization/pro-pharmaceuticals            venture   \n",
       "91195                 /organization/smartvault            venture   \n",
       "7141    /organization/aquarius-biotechnologies            venture   \n",
       "94507             /organization/stanson-health            venture   \n",
       "60718           /organization/melior-discovery            venture   \n",
       "13138                    /organization/blink-7            venture   \n",
       "83784       /organization/rfid-global-solution            venture   \n",
       "113544                    /organization/zannel            venture   \n",
       "25853                 /organization/dailybooth            venture   \n",
       "62312                       /organization/miox            venture   \n",
       "\n",
       "        raised_amount_usd  \n",
       "23785           3450000.0  \n",
       "72332           6300000.0  \n",
       "88481           1551791.0  \n",
       "42430          15000000.0  \n",
       "63420           5000000.0  \n",
       "27972            930000.0  \n",
       "36443           2999993.0  \n",
       "112392          4000000.0  \n",
       "67516           6300000.0  \n",
       "101399          3500000.0  \n",
       "78358            325000.0  \n",
       "91195           1300000.0  \n",
       "7141             327260.0  \n",
       "94507           3000000.0  \n",
       "60718           2500000.0  \n",
       "13138           5800000.0  \n",
       "83784           2500000.0  \n",
       "113544          6000000.0  \n",
       "25853           6000000.0  \n",
       "62312          19000000.0  "
      ]
     },
     "execution_count": 43,
     "metadata": {},
     "output_type": "execute_result"
    }
   ],
   "source": [
    "#check master_dataframe where country codes are only USA, GBR and IND\n",
    "master_frame.sample(20)"
   ]
  },
  {
   "cell_type": "code",
   "execution_count": 44,
   "id": "3a5a9234",
   "metadata": {},
   "outputs": [
    {
     "data": {
      "text/plain": [
       "(38803, 6)"
      ]
     },
     "execution_count": 44,
     "metadata": {},
     "output_type": "execute_result"
    }
   ],
   "source": [
    "#shape pf master_frame\n",
    "master_frame.shape"
   ]
  },
  {
   "cell_type": "markdown",
   "id": "84861e8e",
   "metadata": {},
   "source": [
    "# Checkpoint 4: Sector Analysis 1\n",
    "This is the third goal of analysis — sector analysis.\n",
    "\n",
    " \n",
    "\n",
    "When we say sector analysis, we refer to one of the eight main sectors (named main_sector) listed in the mapping file (note that ‘Other’ is one of the eight main sectors). This is to simplify the analysis by grouping the numerous category lists (named ‘category_list’) in the mapping file. For example, in the mapping file, category_lists such as ‘3D’, ‘3D Printing’, ‘3D Technology’, etc. are mapped to the main sector ‘Manufacturing’.\n",
    "\n",
    " \n",
    "\n",
    "Also, for some companies, the category list is a list of multiple sub-sectors separated by a pipe (vertical bar |). For example, one of the companies’ category_list is Application Platforms|Real Time|Social Network Media.\n",
    "\n",
    " \n",
    "\n",
    "You discuss with the CEO and come up with the business rule that the first string before the vertical bar will be considered the primary sector. In the example above, ‘Application Platforms’ will be considered the primary sector.\n",
    "\n",
    "Extract the primary sector of each category list from the category_list column\n",
    "\n",
    "Use the mapping file 'mapping.csv' to map each primary sector to one of the eight main sectors (Note that ‘Others’ is also considered one of the main sectors)"
   ]
  },
  {
   "cell_type": "code",
   "execution_count": 45,
   "id": "dd35f6e4",
   "metadata": {},
   "outputs": [
    {
     "data": {
      "text/plain": [
       "0           Media\n",
       "10      Analytics\n",
       "11      Analytics\n",
       "12      Analytics\n",
       "22           Apps\n",
       "28      Education\n",
       "34    Curated Web\n",
       "38    Curated Web\n",
       "39    Curated Web\n",
       "41    Curated Web\n",
       "Name: category_list, dtype: object"
      ]
     },
     "execution_count": 45,
     "metadata": {},
     "output_type": "execute_result"
    }
   ],
   "source": [
    "#extracting primary sector of each category_list column using split \n",
    "master_frame['category_list']=master_frame['category_list'].apply(lambda x:x.split('|')[0])\n",
    "master_frame['category_list'].head(10)"
   ]
  },
  {
   "cell_type": "code",
   "execution_count": 46,
   "id": "ca3c42c2",
   "metadata": {},
   "outputs": [
    {
     "data": {
      "text/plain": [
       "(38803, 6)"
      ]
     },
     "execution_count": 46,
     "metadata": {},
     "output_type": "execute_result"
    }
   ],
   "source": [
    "#shape of master_frame\n",
    "master_frame.shape"
   ]
  },
  {
   "cell_type": "code",
   "execution_count": 47,
   "id": "53f321f7",
   "metadata": {},
   "outputs": [
    {
     "data": {
      "text/html": [
       "<div>\n",
       "<style scoped>\n",
       "    .dataframe tbody tr th:only-of-type {\n",
       "        vertical-align: middle;\n",
       "    }\n",
       "\n",
       "    .dataframe tbody tr th {\n",
       "        vertical-align: top;\n",
       "    }\n",
       "\n",
       "    .dataframe thead th {\n",
       "        text-align: right;\n",
       "    }\n",
       "</style>\n",
       "<table border=\"1\" class=\"dataframe\">\n",
       "  <thead>\n",
       "    <tr style=\"text-align: right;\">\n",
       "      <th></th>\n",
       "      <th>category_list</th>\n",
       "      <th>Automotive &amp; Sports</th>\n",
       "      <th>Blanks</th>\n",
       "      <th>Cleantech / Semiconductors</th>\n",
       "      <th>Entertainment</th>\n",
       "      <th>Health</th>\n",
       "      <th>Manufacturing</th>\n",
       "      <th>News, Search and Messaging</th>\n",
       "      <th>Others</th>\n",
       "      <th>Social, Finance, Analytics, Advertising</th>\n",
       "    </tr>\n",
       "  </thead>\n",
       "  <tbody>\n",
       "    <tr>\n",
       "      <th>0</th>\n",
       "      <td>NaN</td>\n",
       "      <td>0</td>\n",
       "      <td>1</td>\n",
       "      <td>0</td>\n",
       "      <td>0</td>\n",
       "      <td>0</td>\n",
       "      <td>0</td>\n",
       "      <td>0</td>\n",
       "      <td>0</td>\n",
       "      <td>0</td>\n",
       "    </tr>\n",
       "    <tr>\n",
       "      <th>1</th>\n",
       "      <td>3D</td>\n",
       "      <td>0</td>\n",
       "      <td>0</td>\n",
       "      <td>0</td>\n",
       "      <td>0</td>\n",
       "      <td>0</td>\n",
       "      <td>1</td>\n",
       "      <td>0</td>\n",
       "      <td>0</td>\n",
       "      <td>0</td>\n",
       "    </tr>\n",
       "    <tr>\n",
       "      <th>2</th>\n",
       "      <td>3D Printing</td>\n",
       "      <td>0</td>\n",
       "      <td>0</td>\n",
       "      <td>0</td>\n",
       "      <td>0</td>\n",
       "      <td>0</td>\n",
       "      <td>1</td>\n",
       "      <td>0</td>\n",
       "      <td>0</td>\n",
       "      <td>0</td>\n",
       "    </tr>\n",
       "    <tr>\n",
       "      <th>3</th>\n",
       "      <td>3D Technology</td>\n",
       "      <td>0</td>\n",
       "      <td>0</td>\n",
       "      <td>0</td>\n",
       "      <td>0</td>\n",
       "      <td>0</td>\n",
       "      <td>1</td>\n",
       "      <td>0</td>\n",
       "      <td>0</td>\n",
       "      <td>0</td>\n",
       "    </tr>\n",
       "    <tr>\n",
       "      <th>4</th>\n",
       "      <td>Accounting</td>\n",
       "      <td>0</td>\n",
       "      <td>0</td>\n",
       "      <td>0</td>\n",
       "      <td>0</td>\n",
       "      <td>0</td>\n",
       "      <td>0</td>\n",
       "      <td>0</td>\n",
       "      <td>0</td>\n",
       "      <td>1</td>\n",
       "    </tr>\n",
       "  </tbody>\n",
       "</table>\n",
       "</div>"
      ],
      "text/plain": [
       "   category_list  Automotive & Sports  Blanks  Cleantech / Semiconductors  \\\n",
       "0            NaN                    0       1                           0   \n",
       "1             3D                    0       0                           0   \n",
       "2    3D Printing                    0       0                           0   \n",
       "3  3D Technology                    0       0                           0   \n",
       "4     Accounting                    0       0                           0   \n",
       "\n",
       "   Entertainment  Health  Manufacturing  News, Search and Messaging  Others  \\\n",
       "0              0       0              0                           0       0   \n",
       "1              0       0              1                           0       0   \n",
       "2              0       0              1                           0       0   \n",
       "3              0       0              1                           0       0   \n",
       "4              0       0              0                           0       0   \n",
       "\n",
       "   Social, Finance, Analytics, Advertising  \n",
       "0                                        0  \n",
       "1                                        0  \n",
       "2                                        0  \n",
       "3                                        0  \n",
       "4                                        1  "
      ]
     },
     "execution_count": 47,
     "metadata": {},
     "output_type": "execute_result"
    }
   ],
   "source": [
    "#read the mapping dataset and check first five rows and replacing some weird values like \"AOlytics\" so replacing it with \"Analytics\"\n",
    "mapping=pd.read_csv('mapping.csv',encoding='ISO-8859-1')\n",
    "mapping.category_list = mapping.category_list.replace({'0':'na','2.na':'2.0'},regex=True)\n",
    "mapping.head(5)"
   ]
  },
  {
   "cell_type": "code",
   "execution_count": 48,
   "id": "4d5f8740",
   "metadata": {},
   "outputs": [
    {
     "name": "stdout",
     "output_type": "stream",
     "text": [
      "<class 'pandas.core.frame.DataFrame'>\n",
      "RangeIndex: 688 entries, 0 to 687\n",
      "Data columns (total 10 columns):\n",
      " #   Column                                   Non-Null Count  Dtype \n",
      "---  ------                                   --------------  ----- \n",
      " 0   category_list                            687 non-null    object\n",
      " 1   Automotive & Sports                      688 non-null    int64 \n",
      " 2   Blanks                                   688 non-null    int64 \n",
      " 3   Cleantech / Semiconductors               688 non-null    int64 \n",
      " 4   Entertainment                            688 non-null    int64 \n",
      " 5   Health                                   688 non-null    int64 \n",
      " 6   Manufacturing                            688 non-null    int64 \n",
      " 7   News, Search and Messaging               688 non-null    int64 \n",
      " 8   Others                                   688 non-null    int64 \n",
      " 9   Social, Finance, Analytics, Advertising  688 non-null    int64 \n",
      "dtypes: int64(9), object(1)\n",
      "memory usage: 53.9+ KB\n"
     ]
    }
   ],
   "source": [
    "#getting info of mapping dataframe\n",
    "mapping.info()"
   ]
  },
  {
   "cell_type": "code",
   "execution_count": 49,
   "id": "5544ba81",
   "metadata": {},
   "outputs": [
    {
     "data": {
      "text/plain": [
       "(688, 10)"
      ]
     },
     "execution_count": 49,
     "metadata": {},
     "output_type": "execute_result"
    }
   ],
   "source": [
    "#shape of mapping dataframe\n",
    "mapping.shape"
   ]
  },
  {
   "cell_type": "code",
   "execution_count": 50,
   "id": "359ee529",
   "metadata": {},
   "outputs": [
    {
     "data": {
      "text/html": [
       "<div>\n",
       "<style scoped>\n",
       "    .dataframe tbody tr th:only-of-type {\n",
       "        vertical-align: middle;\n",
       "    }\n",
       "\n",
       "    .dataframe tbody tr th {\n",
       "        vertical-align: top;\n",
       "    }\n",
       "\n",
       "    .dataframe thead th {\n",
       "        text-align: right;\n",
       "    }\n",
       "</style>\n",
       "<table border=\"1\" class=\"dataframe\">\n",
       "  <thead>\n",
       "    <tr style=\"text-align: right;\">\n",
       "      <th></th>\n",
       "      <th>category_list</th>\n",
       "      <th>variable</th>\n",
       "      <th>value</th>\n",
       "    </tr>\n",
       "  </thead>\n",
       "  <tbody>\n",
       "    <tr>\n",
       "      <th>0</th>\n",
       "      <td>NaN</td>\n",
       "      <td>Manufacturing</td>\n",
       "      <td>0</td>\n",
       "    </tr>\n",
       "    <tr>\n",
       "      <th>1</th>\n",
       "      <td>3D</td>\n",
       "      <td>Manufacturing</td>\n",
       "      <td>1</td>\n",
       "    </tr>\n",
       "    <tr>\n",
       "      <th>2</th>\n",
       "      <td>3D Printing</td>\n",
       "      <td>Manufacturing</td>\n",
       "      <td>1</td>\n",
       "    </tr>\n",
       "    <tr>\n",
       "      <th>3</th>\n",
       "      <td>3D Technology</td>\n",
       "      <td>Manufacturing</td>\n",
       "      <td>1</td>\n",
       "    </tr>\n",
       "    <tr>\n",
       "      <th>4</th>\n",
       "      <td>Accounting</td>\n",
       "      <td>Manufacturing</td>\n",
       "      <td>0</td>\n",
       "    </tr>\n",
       "  </tbody>\n",
       "</table>\n",
       "</div>"
      ],
      "text/plain": [
       "   category_list       variable  value\n",
       "0            NaN  Manufacturing      0\n",
       "1             3D  Manufacturing      1\n",
       "2    3D Printing  Manufacturing      1\n",
       "3  3D Technology  Manufacturing      1\n",
       "4     Accounting  Manufacturing      0"
      ]
     },
     "execution_count": 50,
     "metadata": {},
     "output_type": "execute_result"
    }
   ],
   "source": [
    "#Reshaping the mapping dataframe so that we can merge it with master_frame dataframe. Using pd.melt() function to unpivot the table.\n",
    "mapping = pd.melt(mapping, id_vars =['category_list'], value_vars =['Manufacturing','Automotive & Sports',\n",
    "                                                              'Cleantech / Semiconductors','Entertainment',\n",
    "                                                             'Health','News, Search and Messaging','Others',\n",
    "                                                            'Social, Finance, Analytics, Advertising']) \n",
    "mapping.head()"
   ]
  },
  {
   "cell_type": "code",
   "execution_count": 51,
   "id": "39a1e370",
   "metadata": {},
   "outputs": [
    {
     "data": {
      "text/html": [
       "<div>\n",
       "<style scoped>\n",
       "    .dataframe tbody tr th:only-of-type {\n",
       "        vertical-align: middle;\n",
       "    }\n",
       "\n",
       "    .dataframe tbody tr th {\n",
       "        vertical-align: top;\n",
       "    }\n",
       "\n",
       "    .dataframe thead th {\n",
       "        text-align: right;\n",
       "    }\n",
       "</style>\n",
       "<table border=\"1\" class=\"dataframe\">\n",
       "  <thead>\n",
       "    <tr style=\"text-align: right;\">\n",
       "      <th></th>\n",
       "      <th>category_list</th>\n",
       "      <th>main_sector</th>\n",
       "    </tr>\n",
       "  </thead>\n",
       "  <tbody>\n",
       "    <tr>\n",
       "      <th>1</th>\n",
       "      <td>3D</td>\n",
       "      <td>Manufacturing</td>\n",
       "    </tr>\n",
       "    <tr>\n",
       "      <th>2</th>\n",
       "      <td>3D Printing</td>\n",
       "      <td>Manufacturing</td>\n",
       "    </tr>\n",
       "    <tr>\n",
       "      <th>3</th>\n",
       "      <td>3D Technology</td>\n",
       "      <td>Manufacturing</td>\n",
       "    </tr>\n",
       "    <tr>\n",
       "      <th>7</th>\n",
       "      <td>Advanced Materials</td>\n",
       "      <td>Manufacturing</td>\n",
       "    </tr>\n",
       "    <tr>\n",
       "      <th>15</th>\n",
       "      <td>Agriculture</td>\n",
       "      <td>Manufacturing</td>\n",
       "    </tr>\n",
       "  </tbody>\n",
       "</table>\n",
       "</div>"
      ],
      "text/plain": [
       "         category_list    main_sector\n",
       "1                   3D  Manufacturing\n",
       "2          3D Printing  Manufacturing\n",
       "3        3D Technology  Manufacturing\n",
       "7   Advanced Materials  Manufacturing\n",
       "15         Agriculture  Manufacturing"
      ]
     },
     "execution_count": 51,
     "metadata": {},
     "output_type": "execute_result"
    }
   ],
   "source": [
    "#removing all rows who has value=0 and then dropping value column\n",
    "mapping = mapping[~(mapping.value == 0)]\n",
    "mapping = mapping.drop('value', axis = 1)\n",
    "#renaming \"variable\" to \"main_sector\" \n",
    "mapping = mapping.rename(columns = {\"variable\":\"main_sector\"})\n",
    "mapping.head()"
   ]
  },
  {
   "cell_type": "code",
   "execution_count": 52,
   "id": "e238f3c6",
   "metadata": {},
   "outputs": [
    {
     "data": {
      "text/html": [
       "<div>\n",
       "<style scoped>\n",
       "    .dataframe tbody tr th:only-of-type {\n",
       "        vertical-align: middle;\n",
       "    }\n",
       "\n",
       "    .dataframe tbody tr th {\n",
       "        vertical-align: top;\n",
       "    }\n",
       "\n",
       "    .dataframe thead th {\n",
       "        text-align: right;\n",
       "    }\n",
       "</style>\n",
       "<table border=\"1\" class=\"dataframe\">\n",
       "  <thead>\n",
       "    <tr style=\"text-align: right;\">\n",
       "      <th></th>\n",
       "      <th>permalink</th>\n",
       "      <th>category_list</th>\n",
       "      <th>country_code</th>\n",
       "      <th>company_permalink</th>\n",
       "      <th>funding_round_type</th>\n",
       "      <th>raised_amount_usd</th>\n",
       "      <th>main_sector</th>\n",
       "    </tr>\n",
       "  </thead>\n",
       "  <tbody>\n",
       "    <tr>\n",
       "      <th>0</th>\n",
       "      <td>/organization/-fame</td>\n",
       "      <td>Media</td>\n",
       "      <td>IND</td>\n",
       "      <td>/organization/-fame</td>\n",
       "      <td>venture</td>\n",
       "      <td>10000000.0</td>\n",
       "      <td>Entertainment</td>\n",
       "    </tr>\n",
       "    <tr>\n",
       "      <th>1</th>\n",
       "      <td>/organization/0xdata</td>\n",
       "      <td>Analytics</td>\n",
       "      <td>USA</td>\n",
       "      <td>/organization/0xdata</td>\n",
       "      <td>venture</td>\n",
       "      <td>20000000.0</td>\n",
       "      <td>Social, Finance, Analytics, Advertising</td>\n",
       "    </tr>\n",
       "    <tr>\n",
       "      <th>2</th>\n",
       "      <td>/organization/0xdata</td>\n",
       "      <td>Analytics</td>\n",
       "      <td>USA</td>\n",
       "      <td>/organization/0xdata</td>\n",
       "      <td>venture</td>\n",
       "      <td>1700000.0</td>\n",
       "      <td>Social, Finance, Analytics, Advertising</td>\n",
       "    </tr>\n",
       "    <tr>\n",
       "      <th>3</th>\n",
       "      <td>/organization/0xdata</td>\n",
       "      <td>Analytics</td>\n",
       "      <td>USA</td>\n",
       "      <td>/organization/0xdata</td>\n",
       "      <td>venture</td>\n",
       "      <td>8900000.0</td>\n",
       "      <td>Social, Finance, Analytics, Advertising</td>\n",
       "    </tr>\n",
       "    <tr>\n",
       "      <th>4</th>\n",
       "      <td>/organization/1-mainstream</td>\n",
       "      <td>Apps</td>\n",
       "      <td>USA</td>\n",
       "      <td>/organization/1-mainstream</td>\n",
       "      <td>venture</td>\n",
       "      <td>5000000.0</td>\n",
       "      <td>News, Search and Messaging</td>\n",
       "    </tr>\n",
       "  </tbody>\n",
       "</table>\n",
       "</div>"
      ],
      "text/plain": [
       "                    permalink category_list country_code  \\\n",
       "0         /organization/-fame         Media          IND   \n",
       "1        /organization/0xdata     Analytics          USA   \n",
       "2        /organization/0xdata     Analytics          USA   \n",
       "3        /organization/0xdata     Analytics          USA   \n",
       "4  /organization/1-mainstream          Apps          USA   \n",
       "\n",
       "            company_permalink funding_round_type  raised_amount_usd  \\\n",
       "0         /organization/-fame            venture         10000000.0   \n",
       "1        /organization/0xdata            venture         20000000.0   \n",
       "2        /organization/0xdata            venture          1700000.0   \n",
       "3        /organization/0xdata            venture          8900000.0   \n",
       "4  /organization/1-mainstream            venture          5000000.0   \n",
       "\n",
       "                               main_sector  \n",
       "0                            Entertainment  \n",
       "1  Social, Finance, Analytics, Advertising  \n",
       "2  Social, Finance, Analytics, Advertising  \n",
       "3  Social, Finance, Analytics, Advertising  \n",
       "4               News, Search and Messaging  "
      ]
     },
     "execution_count": 52,
     "metadata": {},
     "output_type": "execute_result"
    }
   ],
   "source": [
    "#merging master_frame with mapping dataframe\n",
    "master_frame = master_frame.merge(mapping, how = 'left', on ='category_list')\n",
    "master_frame.head()"
   ]
  },
  {
   "cell_type": "code",
   "execution_count": 53,
   "id": "aec69283",
   "metadata": {},
   "outputs": [
    {
     "data": {
      "text/plain": [
       "(38803, 7)"
      ]
     },
     "execution_count": 53,
     "metadata": {},
     "output_type": "execute_result"
    }
   ],
   "source": [
    "#getting final shape of master_frame dataframe\n",
    "master_frame.shape"
   ]
  },
  {
   "cell_type": "code",
   "execution_count": 54,
   "id": "6c7719e7",
   "metadata": {},
   "outputs": [
    {
     "data": {
      "text/plain": [
       "array(['Entertainment', 'Social, Finance, Analytics, Advertising',\n",
       "       'News, Search and Messaging', 'Others', 'Health',\n",
       "       'Cleantech / Semiconductors', 'Manufacturing',\n",
       "       'Automotive & Sports', nan], dtype=object)"
      ]
     },
     "execution_count": 54,
     "metadata": {},
     "output_type": "execute_result"
    }
   ],
   "source": [
    "#checking unique values of main_sector column\n",
    "master_frame['main_sector'].unique()"
   ]
  },
  {
   "cell_type": "code",
   "execution_count": 55,
   "id": "c28aa4b2",
   "metadata": {},
   "outputs": [
    {
     "name": "stdout",
     "output_type": "stream",
     "text": [
      "<class 'pandas.core.frame.DataFrame'>\n",
      "Int64Index: 38803 entries, 0 to 38802\n",
      "Data columns (total 7 columns):\n",
      " #   Column              Non-Null Count  Dtype  \n",
      "---  ------              --------------  -----  \n",
      " 0   permalink           38803 non-null  object \n",
      " 1   category_list       38803 non-null  object \n",
      " 2   country_code        38803 non-null  object \n",
      " 3   company_permalink   38803 non-null  object \n",
      " 4   funding_round_type  38803 non-null  object \n",
      " 5   raised_amount_usd   38803 non-null  float64\n",
      " 6   main_sector         38638 non-null  object \n",
      "dtypes: float64(1), object(6)\n",
      "memory usage: 2.4+ MB\n"
     ]
    }
   ],
   "source": [
    "#getting info of master_frame\n",
    "master_frame.info()"
   ]
  },
  {
   "cell_type": "code",
   "execution_count": 56,
   "id": "d4f8b5f7",
   "metadata": {},
   "outputs": [
    {
     "data": {
      "text/plain": [
       "Nanotechnology                     141\n",
       "Navigation                           6\n",
       "Enterprise 2.0                       4\n",
       "Natural Language Processing          3\n",
       "Retirement                           2\n",
       "Adaptive Equipment                   2\n",
       "Product Search                       1\n",
       "Racing                               1\n",
       "GreenTech                            1\n",
       "Specialty Retail                     1\n",
       "Rapidly Expanding                    1\n",
       "Biotechnology and Semiconductor      1\n",
       "Natural Gas Uses                     1\n",
       "Name: category_list, dtype: int64"
      ]
     },
     "execution_count": 56,
     "metadata": {},
     "output_type": "execute_result"
    }
   ],
   "source": [
    "#checking how many null values are there main_sector as per category_list\n",
    "master_frame.loc[(master_frame.main_sector.isnull())]['category_list'].value_counts()"
   ]
  },
  {
   "cell_type": "code",
   "execution_count": 57,
   "id": "22cd3e96",
   "metadata": {},
   "outputs": [
    {
     "data": {
      "text/plain": [
       "permalink             0.00\n",
       "category_list         0.00\n",
       "country_code          0.00\n",
       "company_permalink     0.00\n",
       "funding_round_type    0.00\n",
       "raised_amount_usd     0.00\n",
       "main_sector           0.43\n",
       "dtype: float64"
      ]
     },
     "execution_count": 57,
     "metadata": {},
     "output_type": "execute_result"
    }
   ],
   "source": [
    "#getting total null values in dataframe\n",
    "round(100*master_frame.isnull().sum()/len(master_frame.index),2)"
   ]
  },
  {
   "cell_type": "code",
   "execution_count": 58,
   "id": "a31a6fe6",
   "metadata": {},
   "outputs": [
    {
     "name": "stdout",
     "output_type": "stream",
     "text": [
      "permalink             0\n",
      "category_list         0\n",
      "country_code          0\n",
      "company_permalink     0\n",
      "funding_round_type    0\n",
      "raised_amount_usd     0\n",
      "main_sector           0\n",
      "dtype: int64\n",
      "<class 'pandas.core.frame.DataFrame'>\n",
      "Int64Index: 38638 entries, 0 to 38802\n",
      "Data columns (total 7 columns):\n",
      " #   Column              Non-Null Count  Dtype  \n",
      "---  ------              --------------  -----  \n",
      " 0   permalink           38638 non-null  object \n",
      " 1   category_list       38638 non-null  object \n",
      " 2   country_code        38638 non-null  object \n",
      " 3   company_permalink   38638 non-null  object \n",
      " 4   funding_round_type  38638 non-null  object \n",
      " 5   raised_amount_usd   38638 non-null  float64\n",
      " 6   main_sector         38638 non-null  object \n",
      "dtypes: float64(1), object(6)\n",
      "memory usage: 2.4+ MB\n",
      "None\n"
     ]
    }
   ],
   "source": [
    "#it can be observed that main_sector has just 0.43% null values in main sector and removing those rows will be relevant\n",
    "master_frame=master_frame[~(master_frame.main_sector.isnull())]\n",
    "print(master_frame.isnull().sum())\n",
    "print(master_frame.info())"
   ]
  },
  {
   "cell_type": "markdown",
   "id": "88322399",
   "metadata": {},
   "source": [
    "# Checkpoint 5: Sector analysis\n",
    "Now you have a data frame with each company’s main sector (main_sector) mapped to it. When we say sector analysis, we refer to one of the eight main sectors.\n",
    "\n",
    "Also, you know the top three English speaking countries and the most suitable funding type for Spark Funds. Let’s call the three countries 'Country 1', 'Country 2' and 'Country 3' and the funding type 'FT'.\n",
    "\n",
    "Also, the range of funding preferred by Spark Funds is 5 to 15 million USD.\n",
    "\n",
    "Now, the aim is to find out the most heavily invested main sectors in each of the three countries (for funding type FT and investments range of 5-15 M USD).\n",
    "\n",
    "Create three separate data frames D1, D2 and D3 for each of the three countries containing the observations of funding type FT falling within the 5-15 million USD range. The three data frames should contain all the columns of the master_frame along with the main sector and the primary sector. Using the three data frames, you can calculate the total number of investments and the total amount of investments in each main sector for each of the three countries."
   ]
  },
  {
   "cell_type": "code",
   "execution_count": 59,
   "id": "ad84fc36",
   "metadata": {},
   "outputs": [],
   "source": [
    "#creating three different dataframe D1,D2 and D3 for each of the three countries containing the observations of funding type FT falling within the 5-15 million USD range.\n",
    "D1=master_frame[(master_frame['country_code']=='USA')&(master_frame['raised_amount_usd']>=5000000)&(master_frame['raised_amount_usd']<=15000000)]\n",
    "D2=master_frame[(master_frame['country_code']=='GBR')&(master_frame['raised_amount_usd']>=5000000)&(master_frame['raised_amount_usd']<=15000000)]\n",
    "D3=master_frame[(master_frame['country_code']=='IND')&(master_frame['raised_amount_usd']>=5000000)&(master_frame['raised_amount_usd']<=15000000)]"
   ]
  },
  {
   "cell_type": "markdown",
   "id": "aab86535",
   "metadata": {},
   "source": [
    "#### 1)Total number of Investments (count)"
   ]
  },
  {
   "cell_type": "code",
   "execution_count": 60,
   "id": "5fafb425",
   "metadata": {},
   "outputs": [
    {
     "name": "stdout",
     "output_type": "stream",
     "text": [
      "Total number of investments in USA:  12012\n",
      "Total number of investments in GBR:  619\n",
      "Total number of investments in IND:  328\n"
     ]
    }
   ],
   "source": [
    "print(\"Total number of investments in USA: \",D1.raised_amount_usd.count())\n",
    "print(\"Total number of investments in GBR: \",D2.raised_amount_usd.count())\n",
    "print(\"Total number of investments in IND: \",D3.raised_amount_usd.count())"
   ]
  },
  {
   "cell_type": "markdown",
   "id": "a1acfebf",
   "metadata": {},
   "source": [
    "#### 2) Total amount of investment (USD) "
   ]
  },
  {
   "cell_type": "code",
   "execution_count": 61,
   "id": "cd22451a",
   "metadata": {},
   "outputs": [
    {
     "name": "stdout",
     "output_type": "stream",
     "text": [
      "Total amount of investments in USA:  107318294664.0\n",
      "Total amount of investments in GBR:  5365228300.0\n",
      "Total amount of investments in IND:  2949543602.0\n"
     ]
    }
   ],
   "source": [
    "print(\"Total amount of investments in USA: \",D1.raised_amount_usd.sum())\n",
    "print(\"Total amount of investments in GBR: \",D2.raised_amount_usd.sum())\n",
    "print(\"Total amount of investments in IND: \",D3.raised_amount_usd.sum())"
   ]
  },
  {
   "cell_type": "markdown",
   "id": "ed1848bd",
   "metadata": {},
   "source": [
    "#### 3) Top Sector name (no. of investment-wise)\n",
    "#### 4) Second Sector name (no. of investment-wise)\n",
    "#### 5) Third Sector name (no. of investment-wise)"
   ]
  },
  {
   "cell_type": "code",
   "execution_count": 62,
   "id": "05cfda87",
   "metadata": {},
   "outputs": [
    {
     "data": {
      "text/plain": [
       "main_sector\n",
       "Others                                     2950\n",
       "Social, Finance, Analytics, Advertising    2714\n",
       "Cleantech / Semiconductors                 2300\n",
       "News, Search and Messaging                 1582\n",
       "Health                                      909\n",
       "Manufacturing                               799\n",
       "Entertainment                               591\n",
       "Automotive & Sports                         167\n",
       "Name: raised_amount_usd, dtype: int64"
      ]
     },
     "execution_count": 62,
     "metadata": {},
     "output_type": "execute_result"
    }
   ],
   "source": [
    "#getting main sector for D1 dataframe by sorting values in descending order to get top sector name\n",
    "D1.groupby('main_sector')['raised_amount_usd'].count().sort_values(ascending=False)"
   ]
  },
  {
   "cell_type": "code",
   "execution_count": 63,
   "id": "a7bd7c49",
   "metadata": {},
   "outputs": [
    {
     "data": {
      "text/plain": [
       "main_sector\n",
       "Others                                     147\n",
       "Social, Finance, Analytics, Advertising    133\n",
       "Cleantech / Semiconductors                 128\n",
       "News, Search and Messaging                  73\n",
       "Entertainment                               56\n",
       "Manufacturing                               42\n",
       "Health                                      24\n",
       "Automotive & Sports                         16\n",
       "Name: raised_amount_usd, dtype: int64"
      ]
     },
     "execution_count": 63,
     "metadata": {},
     "output_type": "execute_result"
    }
   ],
   "source": [
    "#getting main sector for D2 dataframe by sorting values in descending order to get top sector name\n",
    "D2.groupby('main_sector')['raised_amount_usd'].count().sort_values(ascending=False)"
   ]
  },
  {
   "cell_type": "code",
   "execution_count": 64,
   "id": "2157e6c6",
   "metadata": {},
   "outputs": [
    {
     "data": {
      "text/plain": [
       "main_sector\n",
       "Others                                     110\n",
       "Social, Finance, Analytics, Advertising     60\n",
       "News, Search and Messaging                  52\n",
       "Entertainment                               33\n",
       "Manufacturing                               21\n",
       "Cleantech / Semiconductors                  20\n",
       "Health                                      19\n",
       "Automotive & Sports                         13\n",
       "Name: raised_amount_usd, dtype: int64"
      ]
     },
     "execution_count": 64,
     "metadata": {},
     "output_type": "execute_result"
    }
   ],
   "source": [
    "#getting main sector for D3 dataframe by sorting values in descending order to get top sector name\n",
    "D3.groupby('main_sector')['raised_amount_usd'].count().sort_values(ascending=False)"
   ]
  },
  {
   "cell_type": "markdown",
   "id": "7a083fd3",
   "metadata": {},
   "source": [
    "### For point 3 (top sector count-wise), which company received the highest investment?"
   ]
  },
  {
   "cell_type": "code",
   "execution_count": 65,
   "id": "f373df68",
   "metadata": {},
   "outputs": [
    {
     "data": {
      "text/html": [
       "<div>\n",
       "<style scoped>\n",
       "    .dataframe tbody tr th:only-of-type {\n",
       "        vertical-align: middle;\n",
       "    }\n",
       "\n",
       "    .dataframe tbody tr th {\n",
       "        vertical-align: top;\n",
       "    }\n",
       "\n",
       "    .dataframe thead th {\n",
       "        text-align: right;\n",
       "    }\n",
       "</style>\n",
       "<table border=\"1\" class=\"dataframe\">\n",
       "  <thead>\n",
       "    <tr style=\"text-align: right;\">\n",
       "      <th></th>\n",
       "      <th>raised_amount_usd</th>\n",
       "    </tr>\n",
       "    <tr>\n",
       "      <th>company_permalink</th>\n",
       "      <th></th>\n",
       "    </tr>\n",
       "  </thead>\n",
       "  <tbody>\n",
       "    <tr>\n",
       "      <th>/organization/virtustream</th>\n",
       "      <td>64300000.0</td>\n",
       "    </tr>\n",
       "    <tr>\n",
       "      <th>/organization/capella</th>\n",
       "      <td>54968051.0</td>\n",
       "    </tr>\n",
       "    <tr>\n",
       "      <th>/organization/airtight-networks</th>\n",
       "      <td>54201907.0</td>\n",
       "    </tr>\n",
       "    <tr>\n",
       "      <th>/organization/decarta</th>\n",
       "      <td>52100000.0</td>\n",
       "    </tr>\n",
       "    <tr>\n",
       "      <th>/organization/black-duck-software</th>\n",
       "      <td>51000000.0</td>\n",
       "    </tr>\n",
       "  </tbody>\n",
       "</table>\n",
       "</div>"
      ],
      "text/plain": [
       "                                   raised_amount_usd\n",
       "company_permalink                                   \n",
       "/organization/virtustream                 64300000.0\n",
       "/organization/capella                     54968051.0\n",
       "/organization/airtight-networks           54201907.0\n",
       "/organization/decarta                     52100000.0\n",
       "/organization/black-duck-software         51000000.0"
      ]
     },
     "execution_count": 65,
     "metadata": {},
     "output_type": "execute_result"
    }
   ],
   "source": [
    "#as we have observed, D1 dataframe has 'Others' as main sector. After that, pivot table is created for companies_permalink stating investment amount\n",
    "topCompany_USA=D1[D1['main_sector']=='Others']\n",
    "D1_company1=topCompany_USA.pivot_table(values=\"raised_amount_usd\",index=\"company_permalink\",aggfunc='sum').sort_values(by=\"raised_amount_usd\",ascending=False)\n",
    "D1_company1.head()"
   ]
  },
  {
   "cell_type": "code",
   "execution_count": 66,
   "id": "0002da7c",
   "metadata": {},
   "outputs": [
    {
     "data": {
      "text/html": [
       "<div>\n",
       "<style scoped>\n",
       "    .dataframe tbody tr th:only-of-type {\n",
       "        vertical-align: middle;\n",
       "    }\n",
       "\n",
       "    .dataframe tbody tr th {\n",
       "        vertical-align: top;\n",
       "    }\n",
       "\n",
       "    .dataframe thead th {\n",
       "        text-align: right;\n",
       "    }\n",
       "</style>\n",
       "<table border=\"1\" class=\"dataframe\">\n",
       "  <thead>\n",
       "    <tr style=\"text-align: right;\">\n",
       "      <th></th>\n",
       "      <th>raised_amount_usd</th>\n",
       "    </tr>\n",
       "    <tr>\n",
       "      <th>company_permalink</th>\n",
       "      <th></th>\n",
       "    </tr>\n",
       "  </thead>\n",
       "  <tbody>\n",
       "    <tr>\n",
       "      <th>/organization/electric-cloud</th>\n",
       "      <td>37000000.0</td>\n",
       "    </tr>\n",
       "    <tr>\n",
       "      <th>/organization/sensage</th>\n",
       "      <td>36250000.0</td>\n",
       "    </tr>\n",
       "    <tr>\n",
       "      <th>/organization/enigmatic</th>\n",
       "      <td>32500000.0</td>\n",
       "    </tr>\n",
       "    <tr>\n",
       "      <th>/organization/silverrail-technologies</th>\n",
       "      <td>29000000.0</td>\n",
       "    </tr>\n",
       "    <tr>\n",
       "      <th>/organization/opencloud</th>\n",
       "      <td>27972766.0</td>\n",
       "    </tr>\n",
       "  </tbody>\n",
       "</table>\n",
       "</div>"
      ],
      "text/plain": [
       "                                       raised_amount_usd\n",
       "company_permalink                                       \n",
       "/organization/electric-cloud                  37000000.0\n",
       "/organization/sensage                         36250000.0\n",
       "/organization/enigmatic                       32500000.0\n",
       "/organization/silverrail-technologies         29000000.0\n",
       "/organization/opencloud                       27972766.0"
      ]
     },
     "execution_count": 66,
     "metadata": {},
     "output_type": "execute_result"
    }
   ],
   "source": [
    "#as we have observed, D2 dataframe has 'Others' as main sector. After that, pivot table is created for companies_permalink\n",
    "topCompany_GBR=D2[D2['main_sector']=='Others']\n",
    "D2_company1=topCompany_GBR.pivot_table(values=\"raised_amount_usd\",index=\"company_permalink\",aggfunc='sum').sort_values(by=\"raised_amount_usd\",ascending=False)\n",
    "D2_company1.head()"
   ]
  },
  {
   "cell_type": "code",
   "execution_count": 67,
   "id": "93c61ddd",
   "metadata": {},
   "outputs": [
    {
     "data": {
      "text/html": [
       "<div>\n",
       "<style scoped>\n",
       "    .dataframe tbody tr th:only-of-type {\n",
       "        vertical-align: middle;\n",
       "    }\n",
       "\n",
       "    .dataframe tbody tr th {\n",
       "        vertical-align: top;\n",
       "    }\n",
       "\n",
       "    .dataframe thead th {\n",
       "        text-align: right;\n",
       "    }\n",
       "</style>\n",
       "<table border=\"1\" class=\"dataframe\">\n",
       "  <thead>\n",
       "    <tr style=\"text-align: right;\">\n",
       "      <th></th>\n",
       "      <th>raised_amount_usd</th>\n",
       "    </tr>\n",
       "    <tr>\n",
       "      <th>company_permalink</th>\n",
       "      <th></th>\n",
       "    </tr>\n",
       "  </thead>\n",
       "  <tbody>\n",
       "    <tr>\n",
       "      <th>/organization/firstcry-com</th>\n",
       "      <td>39000000.0</td>\n",
       "    </tr>\n",
       "    <tr>\n",
       "      <th>/organization/myntra</th>\n",
       "      <td>38000000.0</td>\n",
       "    </tr>\n",
       "    <tr>\n",
       "      <th>/organization/commonfloor</th>\n",
       "      <td>32900000.0</td>\n",
       "    </tr>\n",
       "    <tr>\n",
       "      <th>/organization/pepperfry-com</th>\n",
       "      <td>28000000.0</td>\n",
       "    </tr>\n",
       "    <tr>\n",
       "      <th>/organization/itzcash-card-ltd</th>\n",
       "      <td>25000000.0</td>\n",
       "    </tr>\n",
       "  </tbody>\n",
       "</table>\n",
       "</div>"
      ],
      "text/plain": [
       "                                raised_amount_usd\n",
       "company_permalink                                \n",
       "/organization/firstcry-com             39000000.0\n",
       "/organization/myntra                   38000000.0\n",
       "/organization/commonfloor              32900000.0\n",
       "/organization/pepperfry-com            28000000.0\n",
       "/organization/itzcash-card-ltd         25000000.0"
      ]
     },
     "execution_count": 67,
     "metadata": {},
     "output_type": "execute_result"
    }
   ],
   "source": [
    "#as we have observed, D1 dataframe has 'Others' as top main sector. After that, pivot table is created for companies_permalink\n",
    "topCompany_IND=D3[D3['main_sector']=='Others']\n",
    "D3_company1=topCompany_IND.pivot_table(values=\"raised_amount_usd\",index=\"company_permalink\",aggfunc='sum').sort_values(by=\"raised_amount_usd\",ascending=False)\n",
    "D3_company1.head()"
   ]
  },
  {
   "cell_type": "markdown",
   "id": "dca83ddf",
   "metadata": {},
   "source": [
    "### For point 4 (second best sector count-wise), which company received the highest investment?"
   ]
  },
  {
   "cell_type": "code",
   "execution_count": 68,
   "id": "151c4416",
   "metadata": {},
   "outputs": [
    {
     "data": {
      "text/html": [
       "<div>\n",
       "<style scoped>\n",
       "    .dataframe tbody tr th:only-of-type {\n",
       "        vertical-align: middle;\n",
       "    }\n",
       "\n",
       "    .dataframe tbody tr th {\n",
       "        vertical-align: top;\n",
       "    }\n",
       "\n",
       "    .dataframe thead th {\n",
       "        text-align: right;\n",
       "    }\n",
       "</style>\n",
       "<table border=\"1\" class=\"dataframe\">\n",
       "  <thead>\n",
       "    <tr style=\"text-align: right;\">\n",
       "      <th></th>\n",
       "      <th>raised_amount_usd</th>\n",
       "    </tr>\n",
       "    <tr>\n",
       "      <th>company_permalink</th>\n",
       "      <th></th>\n",
       "    </tr>\n",
       "  </thead>\n",
       "  <tbody>\n",
       "    <tr>\n",
       "      <th>/organization/shotspotter</th>\n",
       "      <td>67933006.0</td>\n",
       "    </tr>\n",
       "    <tr>\n",
       "      <th>/organization/demandbase</th>\n",
       "      <td>63000000.0</td>\n",
       "    </tr>\n",
       "    <tr>\n",
       "      <th>/organization/intacct</th>\n",
       "      <td>61800000.0</td>\n",
       "    </tr>\n",
       "    <tr>\n",
       "      <th>/organization/netbase</th>\n",
       "      <td>60600000.0</td>\n",
       "    </tr>\n",
       "    <tr>\n",
       "      <th>/organization/lotame</th>\n",
       "      <td>59700000.0</td>\n",
       "    </tr>\n",
       "  </tbody>\n",
       "</table>\n",
       "</div>"
      ],
      "text/plain": [
       "                           raised_amount_usd\n",
       "company_permalink                           \n",
       "/organization/shotspotter         67933006.0\n",
       "/organization/demandbase          63000000.0\n",
       "/organization/intacct             61800000.0\n",
       "/organization/netbase             60600000.0\n",
       "/organization/lotame              59700000.0"
      ]
     },
     "execution_count": 68,
     "metadata": {},
     "output_type": "execute_result"
    }
   ],
   "source": [
    "#as we have observed, D1 dataframe has 'Social, Finance, Analytics, Advertising' as second main sector. After that, pivot table is created for companies_permalink\n",
    "secondCompany_USA=D1[D1['main_sector']=='Social, Finance, Analytics, Advertising']\n",
    "D1_company2=secondCompany_USA.pivot_table(values=\"raised_amount_usd\",index=\"company_permalink\",aggfunc='sum').sort_values(by=\"raised_amount_usd\",ascending=False)\n",
    "D1_company2.head()"
   ]
  },
  {
   "cell_type": "code",
   "execution_count": 69,
   "id": "45968a3f",
   "metadata": {},
   "outputs": [
    {
     "data": {
      "text/html": [
       "<div>\n",
       "<style scoped>\n",
       "    .dataframe tbody tr th:only-of-type {\n",
       "        vertical-align: middle;\n",
       "    }\n",
       "\n",
       "    .dataframe tbody tr th {\n",
       "        vertical-align: top;\n",
       "    }\n",
       "\n",
       "    .dataframe thead th {\n",
       "        text-align: right;\n",
       "    }\n",
       "</style>\n",
       "<table border=\"1\" class=\"dataframe\">\n",
       "  <thead>\n",
       "    <tr style=\"text-align: right;\">\n",
       "      <th></th>\n",
       "      <th>raised_amount_usd</th>\n",
       "    </tr>\n",
       "    <tr>\n",
       "      <th>company_permalink</th>\n",
       "      <th></th>\n",
       "    </tr>\n",
       "  </thead>\n",
       "  <tbody>\n",
       "    <tr>\n",
       "      <th>/organization/celltick-technologies</th>\n",
       "      <td>37500000.0</td>\n",
       "    </tr>\n",
       "    <tr>\n",
       "      <th>/organization/mythings</th>\n",
       "      <td>34000000.0</td>\n",
       "    </tr>\n",
       "    <tr>\n",
       "      <th>/organization/zopa</th>\n",
       "      <td>32900000.0</td>\n",
       "    </tr>\n",
       "    <tr>\n",
       "      <th>/organization/imagini</th>\n",
       "      <td>28550000.0</td>\n",
       "    </tr>\n",
       "    <tr>\n",
       "      <th>/organization/marketinvoice</th>\n",
       "      <td>25553007.0</td>\n",
       "    </tr>\n",
       "  </tbody>\n",
       "</table>\n",
       "</div>"
      ],
      "text/plain": [
       "                                     raised_amount_usd\n",
       "company_permalink                                     \n",
       "/organization/celltick-technologies         37500000.0\n",
       "/organization/mythings                      34000000.0\n",
       "/organization/zopa                          32900000.0\n",
       "/organization/imagini                       28550000.0\n",
       "/organization/marketinvoice                 25553007.0"
      ]
     },
     "execution_count": 69,
     "metadata": {},
     "output_type": "execute_result"
    }
   ],
   "source": [
    "#as we have observed, D2 dataframe has 'Social, Finance, Analytics, Advertising' as second main sector. After that, pivot table is created for companies_permalink\n",
    "secondCompany_GBR=D2[D2['main_sector']=='Social, Finance, Analytics, Advertising']\n",
    "D2_company2=secondCompany_GBR.pivot_table(values=\"raised_amount_usd\",index=\"company_permalink\",aggfunc='sum').sort_values(by=\"raised_amount_usd\",ascending=False)\n",
    "D2_company2.head()"
   ]
  },
  {
   "cell_type": "code",
   "execution_count": 70,
   "id": "5fd45b21",
   "metadata": {},
   "outputs": [
    {
     "data": {
      "text/html": [
       "<div>\n",
       "<style scoped>\n",
       "    .dataframe tbody tr th:only-of-type {\n",
       "        vertical-align: middle;\n",
       "    }\n",
       "\n",
       "    .dataframe tbody tr th {\n",
       "        vertical-align: top;\n",
       "    }\n",
       "\n",
       "    .dataframe thead th {\n",
       "        text-align: right;\n",
       "    }\n",
       "</style>\n",
       "<table border=\"1\" class=\"dataframe\">\n",
       "  <thead>\n",
       "    <tr style=\"text-align: right;\">\n",
       "      <th></th>\n",
       "      <th>raised_amount_usd</th>\n",
       "    </tr>\n",
       "    <tr>\n",
       "      <th>company_permalink</th>\n",
       "      <th></th>\n",
       "    </tr>\n",
       "  </thead>\n",
       "  <tbody>\n",
       "    <tr>\n",
       "      <th>/organization/manthan-systems</th>\n",
       "      <td>50700000.0</td>\n",
       "    </tr>\n",
       "    <tr>\n",
       "      <th>/organization/komli-media</th>\n",
       "      <td>28000000.0</td>\n",
       "    </tr>\n",
       "    <tr>\n",
       "      <th>/organization/shopclues-com</th>\n",
       "      <td>25000000.0</td>\n",
       "    </tr>\n",
       "    <tr>\n",
       "      <th>/organization/intarvo</th>\n",
       "      <td>21900000.0</td>\n",
       "    </tr>\n",
       "    <tr>\n",
       "      <th>/organization/grameen-financial-services</th>\n",
       "      <td>21556050.0</td>\n",
       "    </tr>\n",
       "  </tbody>\n",
       "</table>\n",
       "</div>"
      ],
      "text/plain": [
       "                                          raised_amount_usd\n",
       "company_permalink                                          \n",
       "/organization/manthan-systems                    50700000.0\n",
       "/organization/komli-media                        28000000.0\n",
       "/organization/shopclues-com                      25000000.0\n",
       "/organization/intarvo                            21900000.0\n",
       "/organization/grameen-financial-services         21556050.0"
      ]
     },
     "execution_count": 70,
     "metadata": {},
     "output_type": "execute_result"
    }
   ],
   "source": [
    "#as we have observed, D3 dataframe has 'Social, Finance, Analytics, Advertising' as second main sector. After that, pivot table is created for companies_permalink\n",
    "secondCompany_IND=D3[D3['main_sector']=='Social, Finance, Analytics, Advertising']\n",
    "D3_company2=secondCompany_IND.pivot_table(values=\"raised_amount_usd\",index=\"company_permalink\",aggfunc='sum').sort_values(by=\"raised_amount_usd\",ascending=False)\n",
    "D3_company2.head()"
   ]
  },
  {
   "cell_type": "markdown",
   "id": "583fdb46",
   "metadata": {},
   "source": [
    "# Checkpoint 6: Plots"
   ]
  },
  {
   "cell_type": "markdown",
   "id": "2f2f335d",
   "metadata": {},
   "source": [
    "### 3) A plot showing the number of investments in the top 3 sectors of the top 3 countries on one chart (for the chosen investment type FT). This plot should clearly display the top 3 sectors each in Country 1, Country 2, and Country 3.\n",
    "### Note: Other plots are plotted above"
   ]
  },
  {
   "cell_type": "code",
   "execution_count": 71,
   "id": "93aa83b2",
   "metadata": {
    "scrolled": true
   },
   "outputs": [
    {
     "data": {
      "text/html": [
       "<div>\n",
       "<style scoped>\n",
       "    .dataframe tbody tr th:only-of-type {\n",
       "        vertical-align: middle;\n",
       "    }\n",
       "\n",
       "    .dataframe tbody tr th {\n",
       "        vertical-align: top;\n",
       "    }\n",
       "\n",
       "    .dataframe thead th {\n",
       "        text-align: right;\n",
       "    }\n",
       "</style>\n",
       "<table border=\"1\" class=\"dataframe\">\n",
       "  <thead>\n",
       "    <tr style=\"text-align: right;\">\n",
       "      <th></th>\n",
       "      <th>permalink</th>\n",
       "      <th>category_list</th>\n",
       "      <th>country_code</th>\n",
       "      <th>company_permalink</th>\n",
       "      <th>funding_round_type</th>\n",
       "      <th>raised_amount_usd</th>\n",
       "      <th>main_sector</th>\n",
       "    </tr>\n",
       "  </thead>\n",
       "  <tbody>\n",
       "    <tr>\n",
       "      <th>3</th>\n",
       "      <td>/organization/0xdata</td>\n",
       "      <td>Analytics</td>\n",
       "      <td>USA</td>\n",
       "      <td>/organization/0xdata</td>\n",
       "      <td>venture</td>\n",
       "      <td>8900000.0</td>\n",
       "      <td>Social, Finance, Analytics, Advertising</td>\n",
       "    </tr>\n",
       "    <tr>\n",
       "      <th>17</th>\n",
       "      <td>/organization/128-technology</td>\n",
       "      <td>Service Providers</td>\n",
       "      <td>USA</td>\n",
       "      <td>/organization/128-technology</td>\n",
       "      <td>venture</td>\n",
       "      <td>11999347.0</td>\n",
       "      <td>Others</td>\n",
       "    </tr>\n",
       "    <tr>\n",
       "      <th>29</th>\n",
       "      <td>/organization/170-systems</td>\n",
       "      <td>Software</td>\n",
       "      <td>USA</td>\n",
       "      <td>/organization/170-systems</td>\n",
       "      <td>venture</td>\n",
       "      <td>14000000.0</td>\n",
       "      <td>Others</td>\n",
       "    </tr>\n",
       "    <tr>\n",
       "      <th>31</th>\n",
       "      <td>/organization/17zuoye</td>\n",
       "      <td>Education</td>\n",
       "      <td>USA</td>\n",
       "      <td>/organization/17zuoye</td>\n",
       "      <td>venture</td>\n",
       "      <td>5000000.0</td>\n",
       "      <td>Others</td>\n",
       "    </tr>\n",
       "    <tr>\n",
       "      <th>32</th>\n",
       "      <td>/organization/17zuoye</td>\n",
       "      <td>Education</td>\n",
       "      <td>USA</td>\n",
       "      <td>/organization/17zuoye</td>\n",
       "      <td>venture</td>\n",
       "      <td>10000000.0</td>\n",
       "      <td>Others</td>\n",
       "    </tr>\n",
       "    <tr>\n",
       "      <th>...</th>\n",
       "      <td>...</td>\n",
       "      <td>...</td>\n",
       "      <td>...</td>\n",
       "      <td>...</td>\n",
       "      <td>...</td>\n",
       "      <td>...</td>\n",
       "      <td>...</td>\n",
       "    </tr>\n",
       "    <tr>\n",
       "      <th>38791</th>\n",
       "      <td>/organization/zynga</td>\n",
       "      <td>Facebook Applications</td>\n",
       "      <td>USA</td>\n",
       "      <td>/organization/zynga</td>\n",
       "      <td>venture</td>\n",
       "      <td>15000000.0</td>\n",
       "      <td>Social, Finance, Analytics, Advertising</td>\n",
       "    </tr>\n",
       "    <tr>\n",
       "      <th>38794</th>\n",
       "      <td>/organization/zynga</td>\n",
       "      <td>Facebook Applications</td>\n",
       "      <td>USA</td>\n",
       "      <td>/organization/zynga</td>\n",
       "      <td>venture</td>\n",
       "      <td>5026000.0</td>\n",
       "      <td>Social, Finance, Analytics, Advertising</td>\n",
       "    </tr>\n",
       "    <tr>\n",
       "      <th>38798</th>\n",
       "      <td>/organization/zyomyx-inc</td>\n",
       "      <td>Biotechnology</td>\n",
       "      <td>USA</td>\n",
       "      <td>/organization/zyomyx-inc</td>\n",
       "      <td>venture</td>\n",
       "      <td>12000000.0</td>\n",
       "      <td>Cleantech / Semiconductors</td>\n",
       "    </tr>\n",
       "    <tr>\n",
       "      <th>38799</th>\n",
       "      <td>/organization/zyomyx-inc</td>\n",
       "      <td>Biotechnology</td>\n",
       "      <td>USA</td>\n",
       "      <td>/organization/zyomyx-inc</td>\n",
       "      <td>venture</td>\n",
       "      <td>14219999.0</td>\n",
       "      <td>Cleantech / Semiconductors</td>\n",
       "    </tr>\n",
       "    <tr>\n",
       "      <th>38802</th>\n",
       "      <td>/organization/zystor</td>\n",
       "      <td>Biotechnology</td>\n",
       "      <td>USA</td>\n",
       "      <td>/organization/zystor</td>\n",
       "      <td>venture</td>\n",
       "      <td>8500000.0</td>\n",
       "      <td>Cleantech / Semiconductors</td>\n",
       "    </tr>\n",
       "  </tbody>\n",
       "</table>\n",
       "<p>7964 rows × 7 columns</p>\n",
       "</div>"
      ],
      "text/plain": [
       "                          permalink          category_list country_code  \\\n",
       "3              /organization/0xdata              Analytics          USA   \n",
       "17     /organization/128-technology      Service Providers          USA   \n",
       "29        /organization/170-systems               Software          USA   \n",
       "31            /organization/17zuoye              Education          USA   \n",
       "32            /organization/17zuoye              Education          USA   \n",
       "...                             ...                    ...          ...   \n",
       "38791           /organization/zynga  Facebook Applications          USA   \n",
       "38794           /organization/zynga  Facebook Applications          USA   \n",
       "38798      /organization/zyomyx-inc          Biotechnology          USA   \n",
       "38799      /organization/zyomyx-inc          Biotechnology          USA   \n",
       "38802          /organization/zystor          Biotechnology          USA   \n",
       "\n",
       "                  company_permalink funding_round_type  raised_amount_usd  \\\n",
       "3              /organization/0xdata            venture          8900000.0   \n",
       "17     /organization/128-technology            venture         11999347.0   \n",
       "29        /organization/170-systems            venture         14000000.0   \n",
       "31            /organization/17zuoye            venture          5000000.0   \n",
       "32            /organization/17zuoye            venture         10000000.0   \n",
       "...                             ...                ...                ...   \n",
       "38791           /organization/zynga            venture         15000000.0   \n",
       "38794           /organization/zynga            venture          5026000.0   \n",
       "38798      /organization/zyomyx-inc            venture         12000000.0   \n",
       "38799      /organization/zyomyx-inc            venture         14219999.0   \n",
       "38802          /organization/zystor            venture          8500000.0   \n",
       "\n",
       "                                   main_sector  \n",
       "3      Social, Finance, Analytics, Advertising  \n",
       "17                                      Others  \n",
       "29                                      Others  \n",
       "31                                      Others  \n",
       "32                                      Others  \n",
       "...                                        ...  \n",
       "38791  Social, Finance, Analytics, Advertising  \n",
       "38794  Social, Finance, Analytics, Advertising  \n",
       "38798               Cleantech / Semiconductors  \n",
       "38799               Cleantech / Semiconductors  \n",
       "38802               Cleantech / Semiconductors  \n",
       "\n",
       "[7964 rows x 7 columns]"
      ]
     },
     "execution_count": 71,
     "metadata": {},
     "output_type": "execute_result"
    }
   ],
   "source": [
    "#taking top3 sector of the top 3 countries for D1 dataframe\n",
    "D1=D1[D1['main_sector'].isin(['Others','Social, Finance, Analytics, Advertising','Cleantech / Semiconductors'])]\n",
    "D1"
   ]
  },
  {
   "cell_type": "code",
   "execution_count": 72,
   "id": "6bc0eb6f",
   "metadata": {},
   "outputs": [
    {
     "data": {
      "text/html": [
       "<div>\n",
       "<style scoped>\n",
       "    .dataframe tbody tr th:only-of-type {\n",
       "        vertical-align: middle;\n",
       "    }\n",
       "\n",
       "    .dataframe tbody tr th {\n",
       "        vertical-align: top;\n",
       "    }\n",
       "\n",
       "    .dataframe thead th {\n",
       "        text-align: right;\n",
       "    }\n",
       "</style>\n",
       "<table border=\"1\" class=\"dataframe\">\n",
       "  <thead>\n",
       "    <tr style=\"text-align: right;\">\n",
       "      <th></th>\n",
       "      <th>permalink</th>\n",
       "      <th>category_list</th>\n",
       "      <th>country_code</th>\n",
       "      <th>company_permalink</th>\n",
       "      <th>funding_round_type</th>\n",
       "      <th>raised_amount_usd</th>\n",
       "      <th>main_sector</th>\n",
       "    </tr>\n",
       "  </thead>\n",
       "  <tbody>\n",
       "    <tr>\n",
       "      <th>108</th>\n",
       "      <td>/organization/365scores</td>\n",
       "      <td>Android</td>\n",
       "      <td>GBR</td>\n",
       "      <td>/organization/365scores</td>\n",
       "      <td>venture</td>\n",
       "      <td>5500000.0</td>\n",
       "      <td>Social, Finance, Analytics, Advertising</td>\n",
       "    </tr>\n",
       "    <tr>\n",
       "      <th>305</th>\n",
       "      <td>/organization/abcodia</td>\n",
       "      <td>Biotechnology</td>\n",
       "      <td>GBR</td>\n",
       "      <td>/organization/abcodia</td>\n",
       "      <td>venture</td>\n",
       "      <td>8259067.0</td>\n",
       "      <td>Cleantech / Semiconductors</td>\n",
       "    </tr>\n",
       "    <tr>\n",
       "      <th>381</th>\n",
       "      <td>/organization/acacia-pharma</td>\n",
       "      <td>Biotechnology</td>\n",
       "      <td>GBR</td>\n",
       "      <td>/organization/acacia-pharma</td>\n",
       "      <td>venture</td>\n",
       "      <td>10000000.0</td>\n",
       "      <td>Cleantech / Semiconductors</td>\n",
       "    </tr>\n",
       "    <tr>\n",
       "      <th>393</th>\n",
       "      <td>/organization/acal-energy</td>\n",
       "      <td>Clean Technology</td>\n",
       "      <td>GBR</td>\n",
       "      <td>/organization/acal-energy</td>\n",
       "      <td>venture</td>\n",
       "      <td>9910333.0</td>\n",
       "      <td>Cleantech / Semiconductors</td>\n",
       "    </tr>\n",
       "    <tr>\n",
       "      <th>396</th>\n",
       "      <td>/organization/acal-enterprise-solutions</td>\n",
       "      <td>Information Technology</td>\n",
       "      <td>GBR</td>\n",
       "      <td>/organization/acal-enterprise-solutions</td>\n",
       "      <td>venture</td>\n",
       "      <td>10720178.0</td>\n",
       "      <td>Social, Finance, Analytics, Advertising</td>\n",
       "    </tr>\n",
       "    <tr>\n",
       "      <th>...</th>\n",
       "      <td>...</td>\n",
       "      <td>...</td>\n",
       "      <td>...</td>\n",
       "      <td>...</td>\n",
       "      <td>...</td>\n",
       "      <td>...</td>\n",
       "      <td>...</td>\n",
       "    </tr>\n",
       "    <tr>\n",
       "      <th>38674</th>\n",
       "      <td>/organization/zoopla</td>\n",
       "      <td>Property Management</td>\n",
       "      <td>GBR</td>\n",
       "      <td>/organization/zoopla</td>\n",
       "      <td>venture</td>\n",
       "      <td>5440000.0</td>\n",
       "      <td>Social, Finance, Analytics, Advertising</td>\n",
       "    </tr>\n",
       "    <tr>\n",
       "      <th>38688</th>\n",
       "      <td>/organization/zopa</td>\n",
       "      <td>Finance</td>\n",
       "      <td>GBR</td>\n",
       "      <td>/organization/zopa</td>\n",
       "      <td>venture</td>\n",
       "      <td>12900000.0</td>\n",
       "      <td>Social, Finance, Analytics, Advertising</td>\n",
       "    </tr>\n",
       "    <tr>\n",
       "      <th>38689</th>\n",
       "      <td>/organization/zopa</td>\n",
       "      <td>Finance</td>\n",
       "      <td>GBR</td>\n",
       "      <td>/organization/zopa</td>\n",
       "      <td>venture</td>\n",
       "      <td>15000000.0</td>\n",
       "      <td>Social, Finance, Analytics, Advertising</td>\n",
       "    </tr>\n",
       "    <tr>\n",
       "      <th>38690</th>\n",
       "      <td>/organization/zopa</td>\n",
       "      <td>Finance</td>\n",
       "      <td>GBR</td>\n",
       "      <td>/organization/zopa</td>\n",
       "      <td>venture</td>\n",
       "      <td>5000000.0</td>\n",
       "      <td>Social, Finance, Analytics, Advertising</td>\n",
       "    </tr>\n",
       "    <tr>\n",
       "      <th>38796</th>\n",
       "      <td>/organization/zynstra</td>\n",
       "      <td>Software</td>\n",
       "      <td>GBR</td>\n",
       "      <td>/organization/zynstra</td>\n",
       "      <td>venture</td>\n",
       "      <td>8400000.0</td>\n",
       "      <td>Others</td>\n",
       "    </tr>\n",
       "  </tbody>\n",
       "</table>\n",
       "<p>408 rows × 7 columns</p>\n",
       "</div>"
      ],
      "text/plain": [
       "                                     permalink           category_list  \\\n",
       "108                    /organization/365scores                 Android   \n",
       "305                      /organization/abcodia           Biotechnology   \n",
       "381                /organization/acacia-pharma           Biotechnology   \n",
       "393                  /organization/acal-energy        Clean Technology   \n",
       "396    /organization/acal-enterprise-solutions  Information Technology   \n",
       "...                                        ...                     ...   \n",
       "38674                     /organization/zoopla     Property Management   \n",
       "38688                       /organization/zopa                 Finance   \n",
       "38689                       /organization/zopa                 Finance   \n",
       "38690                       /organization/zopa                 Finance   \n",
       "38796                    /organization/zynstra                Software   \n",
       "\n",
       "      country_code                        company_permalink  \\\n",
       "108            GBR                  /organization/365scores   \n",
       "305            GBR                    /organization/abcodia   \n",
       "381            GBR              /organization/acacia-pharma   \n",
       "393            GBR                /organization/acal-energy   \n",
       "396            GBR  /organization/acal-enterprise-solutions   \n",
       "...            ...                                      ...   \n",
       "38674          GBR                     /organization/zoopla   \n",
       "38688          GBR                       /organization/zopa   \n",
       "38689          GBR                       /organization/zopa   \n",
       "38690          GBR                       /organization/zopa   \n",
       "38796          GBR                    /organization/zynstra   \n",
       "\n",
       "      funding_round_type  raised_amount_usd  \\\n",
       "108              venture          5500000.0   \n",
       "305              venture          8259067.0   \n",
       "381              venture         10000000.0   \n",
       "393              venture          9910333.0   \n",
       "396              venture         10720178.0   \n",
       "...                  ...                ...   \n",
       "38674            venture          5440000.0   \n",
       "38688            venture         12900000.0   \n",
       "38689            venture         15000000.0   \n",
       "38690            venture          5000000.0   \n",
       "38796            venture          8400000.0   \n",
       "\n",
       "                                   main_sector  \n",
       "108    Social, Finance, Analytics, Advertising  \n",
       "305                 Cleantech / Semiconductors  \n",
       "381                 Cleantech / Semiconductors  \n",
       "393                 Cleantech / Semiconductors  \n",
       "396    Social, Finance, Analytics, Advertising  \n",
       "...                                        ...  \n",
       "38674  Social, Finance, Analytics, Advertising  \n",
       "38688  Social, Finance, Analytics, Advertising  \n",
       "38689  Social, Finance, Analytics, Advertising  \n",
       "38690  Social, Finance, Analytics, Advertising  \n",
       "38796                                   Others  \n",
       "\n",
       "[408 rows x 7 columns]"
      ]
     },
     "execution_count": 72,
     "metadata": {},
     "output_type": "execute_result"
    }
   ],
   "source": [
    "#taking top3 sector of the top 3 countries for D2 dataframe\n",
    "D2=D2[D2['main_sector'].isin(['Others','Social, Finance, Analytics, Advertising','Cleantech / Semiconductors'])]\n",
    "D2"
   ]
  },
  {
   "cell_type": "code",
   "execution_count": 73,
   "id": "88d94861",
   "metadata": {},
   "outputs": [
    {
     "data": {
      "text/html": [
       "<div>\n",
       "<style scoped>\n",
       "    .dataframe tbody tr th:only-of-type {\n",
       "        vertical-align: middle;\n",
       "    }\n",
       "\n",
       "    .dataframe tbody tr th {\n",
       "        vertical-align: top;\n",
       "    }\n",
       "\n",
       "    .dataframe thead th {\n",
       "        text-align: right;\n",
       "    }\n",
       "</style>\n",
       "<table border=\"1\" class=\"dataframe\">\n",
       "  <thead>\n",
       "    <tr style=\"text-align: right;\">\n",
       "      <th></th>\n",
       "      <th>permalink</th>\n",
       "      <th>category_list</th>\n",
       "      <th>country_code</th>\n",
       "      <th>company_permalink</th>\n",
       "      <th>funding_round_type</th>\n",
       "      <th>raised_amount_usd</th>\n",
       "      <th>main_sector</th>\n",
       "    </tr>\n",
       "  </thead>\n",
       "  <tbody>\n",
       "    <tr>\n",
       "      <th>55</th>\n",
       "      <td>/organization/21diamonds-india</td>\n",
       "      <td>E-Commerce</td>\n",
       "      <td>IND</td>\n",
       "      <td>/organization/21diamonds-india</td>\n",
       "      <td>venture</td>\n",
       "      <td>6369507.0</td>\n",
       "      <td>Others</td>\n",
       "    </tr>\n",
       "    <tr>\n",
       "      <th>276</th>\n",
       "      <td>/organization/a-little-world</td>\n",
       "      <td>Finance</td>\n",
       "      <td>IND</td>\n",
       "      <td>/organization/a-little-world</td>\n",
       "      <td>venture</td>\n",
       "      <td>6410000.0</td>\n",
       "      <td>Social, Finance, Analytics, Advertising</td>\n",
       "    </tr>\n",
       "    <tr>\n",
       "      <th>1262</th>\n",
       "      <td>/organization/agile</td>\n",
       "      <td>Finance</td>\n",
       "      <td>IND</td>\n",
       "      <td>/organization/agile</td>\n",
       "      <td>venture</td>\n",
       "      <td>5740000.0</td>\n",
       "      <td>Social, Finance, Analytics, Advertising</td>\n",
       "    </tr>\n",
       "    <tr>\n",
       "      <th>1522</th>\n",
       "      <td>/organization/akosha</td>\n",
       "      <td>Consumer Internet</td>\n",
       "      <td>IND</td>\n",
       "      <td>/organization/akosha</td>\n",
       "      <td>venture</td>\n",
       "      <td>5000000.0</td>\n",
       "      <td>Social, Finance, Analytics, Advertising</td>\n",
       "    </tr>\n",
       "    <tr>\n",
       "      <th>1915</th>\n",
       "      <td>/organization/amagi-media-labs</td>\n",
       "      <td>Advertising</td>\n",
       "      <td>IND</td>\n",
       "      <td>/organization/amagi-media-labs</td>\n",
       "      <td>venture</td>\n",
       "      <td>5500000.0</td>\n",
       "      <td>Social, Finance, Analytics, Advertising</td>\n",
       "    </tr>\n",
       "    <tr>\n",
       "      <th>...</th>\n",
       "      <td>...</td>\n",
       "      <td>...</td>\n",
       "      <td>...</td>\n",
       "      <td>...</td>\n",
       "      <td>...</td>\n",
       "      <td>...</td>\n",
       "      <td>...</td>\n",
       "    </tr>\n",
       "    <tr>\n",
       "      <th>37580</th>\n",
       "      <td>/organization/wooplr</td>\n",
       "      <td>Curated Web</td>\n",
       "      <td>IND</td>\n",
       "      <td>/organization/wooplr</td>\n",
       "      <td>venture</td>\n",
       "      <td>5000000.0</td>\n",
       "      <td>News, Search and Messaging</td>\n",
       "    </tr>\n",
       "    <tr>\n",
       "      <th>38125</th>\n",
       "      <td>/organization/yepme-com</td>\n",
       "      <td>Brand Marketing</td>\n",
       "      <td>IND</td>\n",
       "      <td>/organization/yepme-com</td>\n",
       "      <td>venture</td>\n",
       "      <td>12700000.0</td>\n",
       "      <td>Social, Finance, Analytics, Advertising</td>\n",
       "    </tr>\n",
       "    <tr>\n",
       "      <th>38556</th>\n",
       "      <td>/organization/zinka-logistics</td>\n",
       "      <td>Internet</td>\n",
       "      <td>IND</td>\n",
       "      <td>/organization/zinka-logistics</td>\n",
       "      <td>venture</td>\n",
       "      <td>6000000.0</td>\n",
       "      <td>News, Search and Messaging</td>\n",
       "    </tr>\n",
       "    <tr>\n",
       "      <th>38610</th>\n",
       "      <td>/organization/zo-rooms</td>\n",
       "      <td>Hospitality</td>\n",
       "      <td>IND</td>\n",
       "      <td>/organization/zo-rooms</td>\n",
       "      <td>venture</td>\n",
       "      <td>15000000.0</td>\n",
       "      <td>Others</td>\n",
       "    </tr>\n",
       "    <tr>\n",
       "      <th>38666</th>\n",
       "      <td>/organization/zoomo</td>\n",
       "      <td>Internet</td>\n",
       "      <td>IND</td>\n",
       "      <td>/organization/zoomo</td>\n",
       "      <td>venture</td>\n",
       "      <td>5000000.0</td>\n",
       "      <td>News, Search and Messaging</td>\n",
       "    </tr>\n",
       "  </tbody>\n",
       "</table>\n",
       "<p>222 rows × 7 columns</p>\n",
       "</div>"
      ],
      "text/plain": [
       "                            permalink      category_list country_code  \\\n",
       "55     /organization/21diamonds-india         E-Commerce          IND   \n",
       "276      /organization/a-little-world            Finance          IND   \n",
       "1262              /organization/agile            Finance          IND   \n",
       "1522             /organization/akosha  Consumer Internet          IND   \n",
       "1915   /organization/amagi-media-labs        Advertising          IND   \n",
       "...                               ...                ...          ...   \n",
       "37580            /organization/wooplr        Curated Web          IND   \n",
       "38125         /organization/yepme-com    Brand Marketing          IND   \n",
       "38556   /organization/zinka-logistics           Internet          IND   \n",
       "38610          /organization/zo-rooms        Hospitality          IND   \n",
       "38666             /organization/zoomo           Internet          IND   \n",
       "\n",
       "                    company_permalink funding_round_type  raised_amount_usd  \\\n",
       "55     /organization/21diamonds-india            venture          6369507.0   \n",
       "276      /organization/a-little-world            venture          6410000.0   \n",
       "1262              /organization/agile            venture          5740000.0   \n",
       "1522             /organization/akosha            venture          5000000.0   \n",
       "1915   /organization/amagi-media-labs            venture          5500000.0   \n",
       "...                               ...                ...                ...   \n",
       "37580            /organization/wooplr            venture          5000000.0   \n",
       "38125         /organization/yepme-com            venture         12700000.0   \n",
       "38556   /organization/zinka-logistics            venture          6000000.0   \n",
       "38610          /organization/zo-rooms            venture         15000000.0   \n",
       "38666             /organization/zoomo            venture          5000000.0   \n",
       "\n",
       "                                   main_sector  \n",
       "55                                      Others  \n",
       "276    Social, Finance, Analytics, Advertising  \n",
       "1262   Social, Finance, Analytics, Advertising  \n",
       "1522   Social, Finance, Analytics, Advertising  \n",
       "1915   Social, Finance, Analytics, Advertising  \n",
       "...                                        ...  \n",
       "37580               News, Search and Messaging  \n",
       "38125  Social, Finance, Analytics, Advertising  \n",
       "38556               News, Search and Messaging  \n",
       "38610                                   Others  \n",
       "38666               News, Search and Messaging  \n",
       "\n",
       "[222 rows x 7 columns]"
      ]
     },
     "execution_count": 73,
     "metadata": {},
     "output_type": "execute_result"
    }
   ],
   "source": [
    "#taking top3 sector of the top 3 countries for D3 dataframe\n",
    "D3=D3[D3['main_sector'].isin(['Others','Social, Finance, Analytics, Advertising','News, Search and Messaging'])]\n",
    "D3"
   ]
  },
  {
   "cell_type": "markdown",
   "id": "0f50ff52",
   "metadata": {},
   "source": [
    "### A plot showing the number of investments in the top 3 sectors of the top 3 countries on one chart (for the chosen investment type FT). This plot should clearly display the top 3 sectors each in Country 1, Country 2, and Country 3."
   ]
  },
  {
   "cell_type": "code",
   "execution_count": 74,
   "id": "e9549549",
   "metadata": {},
   "outputs": [
    {
     "data": {
      "image/png": "[encoded data removed]",
      "text/plain": [
       "<Figure size 1008x432 with 1 Axes>"
      ]
     },
     "metadata": {
      "needs_background": "light"
     },
     "output_type": "display_data"
    }
   ],
   "source": [
    "plt.figure(figsize=(14,6))\n",
    "df_USA = pd.DataFrame(D1.main_sector.value_counts()[:3])\n",
    "df_USA['country_code'] = 'USA'\n",
    "\n",
    "df_GBR = pd.DataFrame(D2.main_sector.value_counts()[:3])\n",
    "df_GBR['country_code']='GBR'\n",
    "\n",
    "df_IND = pd.DataFrame(D3.main_sector.value_counts()[:3])\n",
    "df_IND['country_code']='IND'\n",
    "top3_countries=[df_USA,df_GBR,df_IND]\n",
    "result=pd.concat(top3_countries)\n",
    "\n",
    "result = result.reset_index().rename({'index':'main_sector','main_sector':'count'},axis=1)\n",
    "sns.barplot(x='count',y='country_code',hue='main_sector',data=result,estimator=np.sum)\n",
    "plt.show()"
   ]
  },
  {
   "cell_type": "code",
   "execution_count": null,
   "id": "9946ab9a",
   "metadata": {},
   "outputs": [],
   "source": []
  }
 ],
 "metadata": {
  "kernelspec": {
   "display_name": "Python 3",
   "language": "python",
   "name": "python3"
  },
  "language_info": {
   "codemirror_mode": {
    "name": "ipython",
    "version": 3
   },
   "file_extension": ".py",
   "mimetype": "text/x-python",
   "name": "python",
   "nbconvert_exporter": "python",
   "pygments_lexer": "ipython3",
   "version": "3.8.8"
  }
 },
 "nbformat": 4,
 "nbformat_minor": 5
}
